{
 "cells": [
  {
   "cell_type": "code",
   "execution_count": 40,
   "metadata": {},
   "outputs": [],
   "source": [
    "import numpy as np\n",
    "import pandas as pd\n",
    "import seaborn as sns\n",
    "import matplotlib.pyplot as plt\n",
    "import missingno as msno\n",
    "import os\n",
    "import re\n",
    "from xgboost import XGBClassifier\n",
    "% matplotlib inline"
   ]
  },
  {
   "cell_type": "code",
   "execution_count": 2,
   "metadata": {},
   "outputs": [],
   "source": [
    "os.chdir(r\"C:\\Users\\Mohiuddin\\Desktop\\machine learning\\ML\\ml-hackerearth\")"
   ]
  },
  {
   "cell_type": "code",
   "execution_count": 3,
   "metadata": {},
   "outputs": [],
   "source": [
    "train_data = pd.read_csv('train_foreclosure.csv',encoding=\"utf-8\")"
   ]
  },
  {
   "cell_type": "code",
   "execution_count": 4,
   "metadata": {},
   "outputs": [],
   "source": [
    "test_data = pd.read_csv('test_foreclosure.csv')"
   ]
  },
  {
   "cell_type": "code",
   "execution_count": 5,
   "metadata": {},
   "outputs": [],
   "source": [
    "Customers = pd.read_excel('Customers_31JAN2019.xlsx',encoding='latin-1')"
   ]
  },
  {
   "cell_type": "code",
   "execution_count": 6,
   "metadata": {},
   "outputs": [],
   "source": [
    "LMS = pd.read_excel('LMS_31JAN2019.xlsx',encoding='latin-1')"
   ]
  },
  {
   "cell_type": "code",
   "execution_count": 7,
   "metadata": {},
   "outputs": [],
   "source": [
    "RF = pd.read_excel('RF_Final_Data.xlsx',encoding='latin-1')"
   ]
  },
  {
   "cell_type": "code",
   "execution_count": 27,
   "metadata": {},
   "outputs": [
    {
     "data": {
      "text/html": [
       "<div>\n",
       "<style scoped>\n",
       "    .dataframe tbody tr th:only-of-type {\n",
       "        vertical-align: middle;\n",
       "    }\n",
       "\n",
       "    .dataframe tbody tr th {\n",
       "        vertical-align: top;\n",
       "    }\n",
       "\n",
       "    .dataframe thead th {\n",
       "        text-align: right;\n",
       "    }\n",
       "</style>\n",
       "<table border=\"1\" class=\"dataframe\">\n",
       "  <thead>\n",
       "    <tr style=\"text-align: right;\">\n",
       "      <th></th>\n",
       "      <th>TicketId</th>\n",
       "      <th>Type</th>\n",
       "      <th>SubType</th>\n",
       "      <th>Status</th>\n",
       "      <th>Date</th>\n",
       "      <th>Preprocessed_EmailBody</th>\n",
       "      <th>Preprocessed_Subject</th>\n",
       "      <th>Masked_CustomerID</th>\n",
       "      <th>Masked_AgreementID</th>\n",
       "    </tr>\n",
       "  </thead>\n",
       "  <tbody>\n",
       "    <tr>\n",
       "      <th>0</th>\n",
       "      <td>571910</td>\n",
       "      <td>REQUEST</td>\n",
       "      <td>PROVISIONAL IT CERTIFICATE</td>\n",
       "      <td>Close</td>\n",
       "      <td>2019-01-23 16:34:00</td>\n",
       "      <td>hi team, can you please provide me itcertifica...</td>\n",
       "      <td>loan account number - loannumber</td>\n",
       "      <td>12020736</td>\n",
       "      <td>0</td>\n",
       "    </tr>\n",
       "    <tr>\n",
       "      <th>1</th>\n",
       "      <td>572747</td>\n",
       "      <td>REQUEST</td>\n",
       "      <td>SOA</td>\n",
       "      <td>Close</td>\n",
       "      <td>2019-01-24 16:05:00</td>\n",
       "      <td>hi team can you please arrange the certificate...</td>\n",
       "      <td>certificate of interest and principal for home...</td>\n",
       "      <td>12019080</td>\n",
       "      <td>0</td>\n",
       "    </tr>\n",
       "    <tr>\n",
       "      <th>2</th>\n",
       "      <td>4622</td>\n",
       "      <td>General</td>\n",
       "      <td>Others</td>\n",
       "      <td>Close</td>\n",
       "      <td>2016-02-12 13:40:00</td>\n",
       "      <td>NaN</td>\n",
       "      <td>re: repaysch : loan number loannumber</td>\n",
       "      <td>12004815</td>\n",
       "      <td>0</td>\n",
       "    </tr>\n",
       "    <tr>\n",
       "      <th>3</th>\n",
       "      <td>4674</td>\n",
       "      <td>REQUEST</td>\n",
       "      <td>SOA</td>\n",
       "      <td>Close</td>\n",
       "      <td>2016-02-12 15:41:00</td>\n",
       "      <td>dear sir, you for your promptreply, please not...</td>\n",
       "      <td>re: finalit : loan number loannumber</td>\n",
       "      <td>12005158</td>\n",
       "      <td>11230237</td>\n",
       "    </tr>\n",
       "    <tr>\n",
       "      <th>4</th>\n",
       "      <td>4681</td>\n",
       "      <td>QUERY</td>\n",
       "      <td>CHANGEOFROI</td>\n",
       "      <td>Close</td>\n",
       "      <td>2016-02-12 15:55:00</td>\n",
       "      <td>dear sachin, for your mail. this seems a great...</td>\n",
       "      <td>re: fw: repaysch : loan number loannumber</td>\n",
       "      <td>12001022</td>\n",
       "      <td>0</td>\n",
       "    </tr>\n",
       "  </tbody>\n",
       "</table>\n",
       "</div>"
      ],
      "text/plain": [
       "   TicketId     Type                     SubType Status                 Date  \\\n",
       "0    571910  REQUEST  PROVISIONAL IT CERTIFICATE  Close  2019-01-23 16:34:00   \n",
       "1    572747  REQUEST                         SOA  Close  2019-01-24 16:05:00   \n",
       "2      4622  General                      Others  Close  2016-02-12 13:40:00   \n",
       "3      4674  REQUEST                         SOA  Close  2016-02-12 15:41:00   \n",
       "4      4681    QUERY                 CHANGEOFROI  Close  2016-02-12 15:55:00   \n",
       "\n",
       "                              Preprocessed_EmailBody  \\\n",
       "0  hi team, can you please provide me itcertifica...   \n",
       "1  hi team can you please arrange the certificate...   \n",
       "2                                                NaN   \n",
       "3  dear sir, you for your promptreply, please not...   \n",
       "4  dear sachin, for your mail. this seems a great...   \n",
       "\n",
       "                                Preprocessed_Subject  Masked_CustomerID  \\\n",
       "0                   loan account number - loannumber           12020736   \n",
       "1  certificate of interest and principal for home...           12019080   \n",
       "2              re: repaysch : loan number loannumber           12004815   \n",
       "3               re: finalit : loan number loannumber           12005158   \n",
       "4          re: fw: repaysch : loan number loannumber           12001022   \n",
       "\n",
       "   Masked_AgreementID  \n",
       "0                   0  \n",
       "1                   0  \n",
       "2                   0  \n",
       "3            11230237  \n",
       "4                   0  "
      ]
     },
     "execution_count": 27,
     "metadata": {},
     "output_type": "execute_result"
    }
   ],
   "source": [
    "RF.head()"
   ]
  },
  {
   "cell_type": "code",
   "execution_count": 25,
   "metadata": {},
   "outputs": [
    {
     "data": {
      "text/html": [
       "<div>\n",
       "<style scoped>\n",
       "    .dataframe tbody tr th:only-of-type {\n",
       "        vertical-align: middle;\n",
       "    }\n",
       "\n",
       "    .dataframe tbody tr th {\n",
       "        vertical-align: top;\n",
       "    }\n",
       "\n",
       "    .dataframe thead th {\n",
       "        text-align: right;\n",
       "    }\n",
       "</style>\n",
       "<table border=\"1\" class=\"dataframe\">\n",
       "  <thead>\n",
       "    <tr style=\"text-align: right;\">\n",
       "      <th></th>\n",
       "      <th>CUSTOMERID</th>\n",
       "      <th>CUST_CONSTTYPE_ID</th>\n",
       "      <th>CUST_CATEGORYID</th>\n",
       "      <th>PROFESSION</th>\n",
       "      <th>AGE</th>\n",
       "      <th>SEX</th>\n",
       "      <th>MARITAL_STATUS</th>\n",
       "      <th>QUALIFICATION</th>\n",
       "      <th>NO_OF_DEPENDENT</th>\n",
       "      <th>OCCUPATION</th>\n",
       "      <th>POSITION</th>\n",
       "      <th>GROSS_INCOME</th>\n",
       "      <th>PRE_JOBYEARS</th>\n",
       "      <th>NETTAKEHOMEINCOME</th>\n",
       "      <th>BRANCH_PINCODE</th>\n",
       "    </tr>\n",
       "  </thead>\n",
       "  <tbody>\n",
       "    <tr>\n",
       "      <th>0</th>\n",
       "      <td>12001000</td>\n",
       "      <td>1</td>\n",
       "      <td>5</td>\n",
       "      <td>NaN</td>\n",
       "      <td>33.0</td>\n",
       "      <td>M</td>\n",
       "      <td>M</td>\n",
       "      <td>POSTGRAD</td>\n",
       "      <td>0.0</td>\n",
       "      <td>NaN</td>\n",
       "      <td>NaN</td>\n",
       "      <td>198375.221829</td>\n",
       "      <td>8.0</td>\n",
       "      <td>198375.221829</td>\n",
       "      <td>400070.0</td>\n",
       "    </tr>\n",
       "    <tr>\n",
       "      <th>1</th>\n",
       "      <td>12001001</td>\n",
       "      <td>1</td>\n",
       "      <td>5</td>\n",
       "      <td>NaN</td>\n",
       "      <td>44.0</td>\n",
       "      <td>M</td>\n",
       "      <td>M</td>\n",
       "      <td>POSTGRAD</td>\n",
       "      <td>0.0</td>\n",
       "      <td>NaN</td>\n",
       "      <td>NaN</td>\n",
       "      <td>242703.982915</td>\n",
       "      <td>10.0</td>\n",
       "      <td>242703.982915</td>\n",
       "      <td>400070.0</td>\n",
       "    </tr>\n",
       "    <tr>\n",
       "      <th>2</th>\n",
       "      <td>12001002</td>\n",
       "      <td>1</td>\n",
       "      <td>7</td>\n",
       "      <td>NaN</td>\n",
       "      <td>50.0</td>\n",
       "      <td>M</td>\n",
       "      <td>M</td>\n",
       "      <td>GRAD</td>\n",
       "      <td>0.0</td>\n",
       "      <td>NaN</td>\n",
       "      <td>NaN</td>\n",
       "      <td>0.000000</td>\n",
       "      <td>NaN</td>\n",
       "      <td>0.000000</td>\n",
       "      <td>400070.0</td>\n",
       "    </tr>\n",
       "    <tr>\n",
       "      <th>3</th>\n",
       "      <td>12001003</td>\n",
       "      <td>3</td>\n",
       "      <td>4</td>\n",
       "      <td>NaN</td>\n",
       "      <td>40.0</td>\n",
       "      <td>M</td>\n",
       "      <td>M</td>\n",
       "      <td>GRAD</td>\n",
       "      <td>0.0</td>\n",
       "      <td>NaN</td>\n",
       "      <td>NaN</td>\n",
       "      <td>365263.511624</td>\n",
       "      <td>NaN</td>\n",
       "      <td>365263.516128</td>\n",
       "      <td>400070.0</td>\n",
       "    </tr>\n",
       "    <tr>\n",
       "      <th>4</th>\n",
       "      <td>12001004</td>\n",
       "      <td>3</td>\n",
       "      <td>4</td>\n",
       "      <td>NaN</td>\n",
       "      <td>27.0</td>\n",
       "      <td>M</td>\n",
       "      <td>M</td>\n",
       "      <td>GRAD</td>\n",
       "      <td>0.0</td>\n",
       "      <td>NaN</td>\n",
       "      <td>NaN</td>\n",
       "      <td>187342.198995</td>\n",
       "      <td>NaN</td>\n",
       "      <td>187342.198995</td>\n",
       "      <td>400070.0</td>\n",
       "    </tr>\n",
       "  </tbody>\n",
       "</table>\n",
       "</div>"
      ],
      "text/plain": [
       "   CUSTOMERID  CUST_CONSTTYPE_ID  CUST_CATEGORYID  PROFESSION   AGE SEX  \\\n",
       "0    12001000                  1                5         NaN  33.0   M   \n",
       "1    12001001                  1                5         NaN  44.0   M   \n",
       "2    12001002                  1                7         NaN  50.0   M   \n",
       "3    12001003                  3                4         NaN  40.0   M   \n",
       "4    12001004                  3                4         NaN  27.0   M   \n",
       "\n",
       "  MARITAL_STATUS QUALIFICATION  NO_OF_DEPENDENT  OCCUPATION POSITION  \\\n",
       "0              M      POSTGRAD              0.0         NaN      NaN   \n",
       "1              M      POSTGRAD              0.0         NaN      NaN   \n",
       "2              M          GRAD              0.0         NaN      NaN   \n",
       "3              M          GRAD              0.0         NaN      NaN   \n",
       "4              M          GRAD              0.0         NaN      NaN   \n",
       "\n",
       "    GROSS_INCOME  PRE_JOBYEARS  NETTAKEHOMEINCOME  BRANCH_PINCODE  \n",
       "0  198375.221829           8.0      198375.221829        400070.0  \n",
       "1  242703.982915          10.0      242703.982915        400070.0  \n",
       "2       0.000000           NaN           0.000000        400070.0  \n",
       "3  365263.511624           NaN      365263.516128        400070.0  \n",
       "4  187342.198995           NaN      187342.198995        400070.0  "
      ]
     },
     "execution_count": 25,
     "metadata": {},
     "output_type": "execute_result"
    }
   ],
   "source": [
    "Customers.head()"
   ]
  },
  {
   "cell_type": "code",
   "execution_count": 26,
   "metadata": {},
   "outputs": [
    {
     "data": {
      "text/html": [
       "<div>\n",
       "<style scoped>\n",
       "    .dataframe tbody tr th:only-of-type {\n",
       "        vertical-align: middle;\n",
       "    }\n",
       "\n",
       "    .dataframe tbody tr th {\n",
       "        vertical-align: top;\n",
       "    }\n",
       "\n",
       "    .dataframe thead th {\n",
       "        text-align: right;\n",
       "    }\n",
       "</style>\n",
       "<table border=\"1\" class=\"dataframe\">\n",
       "  <thead>\n",
       "    <tr style=\"text-align: right;\">\n",
       "      <th></th>\n",
       "      <th>AGREEMENTID</th>\n",
       "      <th>CUSTOMERID</th>\n",
       "      <th>LOAN_AMT</th>\n",
       "      <th>NET_DISBURSED_AMT</th>\n",
       "      <th>INTEREST_START_DATE</th>\n",
       "      <th>CURRENT_ROI</th>\n",
       "      <th>ORIGNAL_ROI</th>\n",
       "      <th>CURRENT_TENOR</th>\n",
       "      <th>ORIGNAL_TENOR</th>\n",
       "      <th>DUEDAY</th>\n",
       "      <th>...</th>\n",
       "      <th>NET_LTV</th>\n",
       "      <th>COMPLETED_TENURE</th>\n",
       "      <th>BALANCE_TENURE</th>\n",
       "      <th>DPD</th>\n",
       "      <th>FOIR</th>\n",
       "      <th>PRODUCT</th>\n",
       "      <th>SCHEMEID</th>\n",
       "      <th>NPA_IN_LAST_MONTH</th>\n",
       "      <th>NPA_IN_CURRENT_MONTH</th>\n",
       "      <th>MOB</th>\n",
       "    </tr>\n",
       "  </thead>\n",
       "  <tbody>\n",
       "    <tr>\n",
       "      <th>0</th>\n",
       "      <td>11220001</td>\n",
       "      <td>12001000.0</td>\n",
       "      <td>1.171011e+07</td>\n",
       "      <td>1.171011e+07</td>\n",
       "      <td>2010-08-30</td>\n",
       "      <td>13.734072</td>\n",
       "      <td>10.612692</td>\n",
       "      <td>58.0</td>\n",
       "      <td>120</td>\n",
       "      <td>1</td>\n",
       "      <td>...</td>\n",
       "      <td>40.06</td>\n",
       "      <td>39</td>\n",
       "      <td>19.0</td>\n",
       "      <td>0.0</td>\n",
       "      <td>0.6000</td>\n",
       "      <td>HL</td>\n",
       "      <td>10901100.0</td>\n",
       "      <td>NaN</td>\n",
       "      <td>NaN</td>\n",
       "      <td>39</td>\n",
       "    </tr>\n",
       "    <tr>\n",
       "      <th>1</th>\n",
       "      <td>11220002</td>\n",
       "      <td>12001001.0</td>\n",
       "      <td>1.929025e+07</td>\n",
       "      <td>1.929025e+07</td>\n",
       "      <td>2010-09-15</td>\n",
       "      <td>13.734072</td>\n",
       "      <td>10.612692</td>\n",
       "      <td>137.0</td>\n",
       "      <td>180</td>\n",
       "      <td>1</td>\n",
       "      <td>...</td>\n",
       "      <td>84.31</td>\n",
       "      <td>38</td>\n",
       "      <td>99.0</td>\n",
       "      <td>0.0</td>\n",
       "      <td>0.6000</td>\n",
       "      <td>HL</td>\n",
       "      <td>10901100.0</td>\n",
       "      <td>NaN</td>\n",
       "      <td>NaN</td>\n",
       "      <td>38</td>\n",
       "    </tr>\n",
       "    <tr>\n",
       "      <th>2</th>\n",
       "      <td>11220003</td>\n",
       "      <td>12001002.0</td>\n",
       "      <td>4.053499e+06</td>\n",
       "      <td>4.053499e+06</td>\n",
       "      <td>2010-09-06</td>\n",
       "      <td>17.167590</td>\n",
       "      <td>12.485520</td>\n",
       "      <td>360.0</td>\n",
       "      <td>180</td>\n",
       "      <td>5</td>\n",
       "      <td>...</td>\n",
       "      <td>79.34</td>\n",
       "      <td>38</td>\n",
       "      <td>322.0</td>\n",
       "      <td>0.0</td>\n",
       "      <td>0.9100</td>\n",
       "      <td>HL</td>\n",
       "      <td>10901101.0</td>\n",
       "      <td>NaN</td>\n",
       "      <td>NaN</td>\n",
       "      <td>38</td>\n",
       "    </tr>\n",
       "    <tr>\n",
       "      <th>3</th>\n",
       "      <td>11220004</td>\n",
       "      <td>12001003.0</td>\n",
       "      <td>1.325703e+07</td>\n",
       "      <td>1.325703e+07</td>\n",
       "      <td>2010-09-29</td>\n",
       "      <td>15.606900</td>\n",
       "      <td>10.924830</td>\n",
       "      <td>198.0</td>\n",
       "      <td>180</td>\n",
       "      <td>5</td>\n",
       "      <td>...</td>\n",
       "      <td>86.86</td>\n",
       "      <td>37</td>\n",
       "      <td>161.0</td>\n",
       "      <td>0.0</td>\n",
       "      <td>0.9686</td>\n",
       "      <td>HL</td>\n",
       "      <td>10901101.0</td>\n",
       "      <td>NaN</td>\n",
       "      <td>NaN</td>\n",
       "      <td>38</td>\n",
       "    </tr>\n",
       "    <tr>\n",
       "      <th>4</th>\n",
       "      <td>11220005</td>\n",
       "      <td>12001004.0</td>\n",
       "      <td>1.321140e+07</td>\n",
       "      <td>1.321140e+07</td>\n",
       "      <td>2010-09-06</td>\n",
       "      <td>16.543314</td>\n",
       "      <td>11.861244</td>\n",
       "      <td>142.0</td>\n",
       "      <td>180</td>\n",
       "      <td>5</td>\n",
       "      <td>...</td>\n",
       "      <td>40.93</td>\n",
       "      <td>38</td>\n",
       "      <td>104.0</td>\n",
       "      <td>0.0</td>\n",
       "      <td>0.7300</td>\n",
       "      <td>HL</td>\n",
       "      <td>10901101.0</td>\n",
       "      <td>NaN</td>\n",
       "      <td>NaN</td>\n",
       "      <td>38</td>\n",
       "    </tr>\n",
       "  </tbody>\n",
       "</table>\n",
       "<p>5 rows × 38 columns</p>\n",
       "</div>"
      ],
      "text/plain": [
       "   AGREEMENTID  CUSTOMERID      LOAN_AMT  NET_DISBURSED_AMT  \\\n",
       "0     11220001  12001000.0  1.171011e+07       1.171011e+07   \n",
       "1     11220002  12001001.0  1.929025e+07       1.929025e+07   \n",
       "2     11220003  12001002.0  4.053499e+06       4.053499e+06   \n",
       "3     11220004  12001003.0  1.325703e+07       1.325703e+07   \n",
       "4     11220005  12001004.0  1.321140e+07       1.321140e+07   \n",
       "\n",
       "  INTEREST_START_DATE  CURRENT_ROI  ORIGNAL_ROI  CURRENT_TENOR  ORIGNAL_TENOR  \\\n",
       "0          2010-08-30    13.734072    10.612692           58.0            120   \n",
       "1          2010-09-15    13.734072    10.612692          137.0            180   \n",
       "2          2010-09-06    17.167590    12.485520          360.0            180   \n",
       "3          2010-09-29    15.606900    10.924830          198.0            180   \n",
       "4          2010-09-06    16.543314    11.861244          142.0            180   \n",
       "\n",
       "   DUEDAY ...  NET_LTV COMPLETED_TENURE  BALANCE_TENURE  DPD    FOIR  PRODUCT  \\\n",
       "0       1 ...    40.06               39            19.0  0.0  0.6000       HL   \n",
       "1       1 ...    84.31               38            99.0  0.0  0.6000       HL   \n",
       "2       5 ...    79.34               38           322.0  0.0  0.9100       HL   \n",
       "3       5 ...    86.86               37           161.0  0.0  0.9686       HL   \n",
       "4       5 ...    40.93               38           104.0  0.0  0.7300       HL   \n",
       "\n",
       "     SCHEMEID  NPA_IN_LAST_MONTH  NPA_IN_CURRENT_MONTH  MOB  \n",
       "0  10901100.0                NaN                   NaN   39  \n",
       "1  10901100.0                NaN                   NaN   38  \n",
       "2  10901101.0                NaN                   NaN   38  \n",
       "3  10901101.0                NaN                   NaN   38  \n",
       "4  10901101.0                NaN                   NaN   38  \n",
       "\n",
       "[5 rows x 38 columns]"
      ]
     },
     "execution_count": 26,
     "metadata": {},
     "output_type": "execute_result"
    }
   ],
   "source": [
    "LMS.head()"
   ]
  },
  {
   "cell_type": "code",
   "execution_count": 34,
   "metadata": {},
   "outputs": [
    {
     "data": {
      "text/plain": [
       "(20012, 2)"
      ]
     },
     "execution_count": 34,
     "metadata": {},
     "output_type": "execute_result"
    }
   ],
   "source": [
    "train_data.shape"
   ]
  },
  {
   "cell_type": "code",
   "execution_count": 28,
   "metadata": {},
   "outputs": [
    {
     "data": {
      "text/plain": [
       "(624250, 38)"
      ]
     },
     "execution_count": 28,
     "metadata": {},
     "output_type": "execute_result"
    }
   ],
   "source": [
    "LMS.shape"
   ]
  },
  {
   "cell_type": "code",
   "execution_count": 29,
   "metadata": {},
   "outputs": [
    {
     "data": {
      "text/plain": [
       "(7511, 9)"
      ]
     },
     "execution_count": 29,
     "metadata": {},
     "output_type": "execute_result"
    }
   ],
   "source": [
    "RF.shape"
   ]
  },
  {
   "cell_type": "code",
   "execution_count": 32,
   "metadata": {},
   "outputs": [
    {
     "data": {
      "text/plain": [
       "(10000, 15)"
      ]
     },
     "execution_count": 32,
     "metadata": {},
     "output_type": "execute_result"
    }
   ],
   "source": [
    "Customers.shape"
   ]
  },
  {
   "cell_type": "code",
   "execution_count": 33,
   "metadata": {},
   "outputs": [
    {
     "data": {
      "text/html": [
       "<div>\n",
       "<style scoped>\n",
       "    .dataframe tbody tr th:only-of-type {\n",
       "        vertical-align: middle;\n",
       "    }\n",
       "\n",
       "    .dataframe tbody tr th {\n",
       "        vertical-align: top;\n",
       "    }\n",
       "\n",
       "    .dataframe thead th {\n",
       "        text-align: right;\n",
       "    }\n",
       "</style>\n",
       "<table border=\"1\" class=\"dataframe\">\n",
       "  <thead>\n",
       "    <tr style=\"text-align: right;\">\n",
       "      <th></th>\n",
       "      <th>AGREEMENTID</th>\n",
       "      <th>FORECLOSURE</th>\n",
       "    </tr>\n",
       "  </thead>\n",
       "  <tbody>\n",
       "    <tr>\n",
       "      <th>0</th>\n",
       "      <td>11220001</td>\n",
       "      <td>1</td>\n",
       "    </tr>\n",
       "    <tr>\n",
       "      <th>1</th>\n",
       "      <td>11220002</td>\n",
       "      <td>1</td>\n",
       "    </tr>\n",
       "    <tr>\n",
       "      <th>2</th>\n",
       "      <td>11220006</td>\n",
       "      <td>1</td>\n",
       "    </tr>\n",
       "    <tr>\n",
       "      <th>3</th>\n",
       "      <td>11220008</td>\n",
       "      <td>1</td>\n",
       "    </tr>\n",
       "    <tr>\n",
       "      <th>4</th>\n",
       "      <td>11220010</td>\n",
       "      <td>1</td>\n",
       "    </tr>\n",
       "  </tbody>\n",
       "</table>\n",
       "</div>"
      ],
      "text/plain": [
       "   AGREEMENTID  FORECLOSURE\n",
       "0     11220001            1\n",
       "1     11220002            1\n",
       "2     11220006            1\n",
       "3     11220008            1\n",
       "4     11220010            1"
      ]
     },
     "execution_count": 33,
     "metadata": {},
     "output_type": "execute_result"
    }
   ],
   "source": [
    "train_data.head()"
   ]
  },
  {
   "cell_type": "code",
   "execution_count": 66,
   "metadata": {},
   "outputs": [
    {
     "data": {
      "text/plain": [
       "(20012, 2)"
      ]
     },
     "execution_count": 66,
     "metadata": {},
     "output_type": "execute_result"
    }
   ],
   "source": [
    "train_data.shape"
   ]
  },
  {
   "cell_type": "code",
   "execution_count": 67,
   "metadata": {},
   "outputs": [
    {
     "data": {
      "text/plain": [
       "(13342, 2)"
      ]
     },
     "execution_count": 67,
     "metadata": {},
     "output_type": "execute_result"
    }
   ],
   "source": [
    "test_data.shape"
   ]
  },
  {
   "cell_type": "code",
   "execution_count": 64,
   "metadata": {},
   "outputs": [],
   "source": [
    "data = train_data.append(test_data)"
   ]
  },
  {
   "cell_type": "code",
   "execution_count": 14,
   "metadata": {},
   "outputs": [],
   "source": []
  },
  {
   "cell_type": "code",
   "execution_count": 10,
   "metadata": {},
   "outputs": [],
   "source": [
    "#RF[\"CUSTOMERID\"]=RF[\"Masked_CustomerID\"]\n",
    "#RF.drop(\"Masked_CustomerID\",axis = 1, inplace = True)"
   ]
  },
  {
   "cell_type": "code",
   "execution_count": null,
   "metadata": {},
   "outputs": [],
   "source": []
  },
  {
   "cell_type": "code",
   "execution_count": 65,
   "metadata": {},
   "outputs": [],
   "source": [
    "result = pd.merge(data, LMS, on='AGREEMENTID',how = \"left\", validate=\"one_to_many\")"
   ]
  },
  {
   "cell_type": "code",
   "execution_count": 66,
   "metadata": {},
   "outputs": [],
   "source": [
    "result_data = pd.merge(result,Customers,how  = \"left\",on = \"CUSTOMERID\") "
   ]
  },
  {
   "cell_type": "code",
   "execution_count": 43,
   "metadata": {},
   "outputs": [],
   "source": [
    "#result_data = pd.merge(result_data,RF,how =\"left\",on = \"CUSTOMERID\")"
   ]
  },
  {
   "cell_type": "code",
   "execution_count": 67,
   "metadata": {},
   "outputs": [],
   "source": [
    "train = pd.merge(train_data,result_data,how =\"left\", on = \"AGREEMENTID\")"
   ]
  },
  {
   "cell_type": "code",
   "execution_count": 68,
   "metadata": {},
   "outputs": [],
   "source": [
    "train = train.drop_duplicates(subset='AGREEMENTID').reset_index(drop=True)"
   ]
  },
  {
   "cell_type": "code",
   "execution_count": 69,
   "metadata": {},
   "outputs": [],
   "source": [
    "test = pd.merge(test_data,result_data,how =\"left\", on = \"AGREEMENTID\")\n",
    "test = test.drop_duplicates(subset='AGREEMENTID').reset_index(drop=True)"
   ]
  },
  {
   "cell_type": "code",
   "execution_count": 47,
   "metadata": {},
   "outputs": [
    {
     "data": {
      "text/html": [
       "<div>\n",
       "<style scoped>\n",
       "    .dataframe tbody tr th:only-of-type {\n",
       "        vertical-align: middle;\n",
       "    }\n",
       "\n",
       "    .dataframe tbody tr th {\n",
       "        vertical-align: top;\n",
       "    }\n",
       "\n",
       "    .dataframe thead th {\n",
       "        text-align: right;\n",
       "    }\n",
       "</style>\n",
       "<table border=\"1\" class=\"dataframe\">\n",
       "  <thead>\n",
       "    <tr style=\"text-align: right;\">\n",
       "      <th></th>\n",
       "      <th>AGREEMENTID</th>\n",
       "      <th>FORECLOSURE_x</th>\n",
       "      <th>FORECLOSURE_y</th>\n",
       "      <th>CUSTOMERID</th>\n",
       "      <th>LOAN_AMT</th>\n",
       "      <th>NET_DISBURSED_AMT</th>\n",
       "      <th>INTEREST_START_DATE</th>\n",
       "      <th>CURRENT_ROI</th>\n",
       "      <th>ORIGNAL_ROI</th>\n",
       "      <th>CURRENT_TENOR</th>\n",
       "      <th>...</th>\n",
       "      <th>SEX</th>\n",
       "      <th>MARITAL_STATUS</th>\n",
       "      <th>QUALIFICATION</th>\n",
       "      <th>NO_OF_DEPENDENT</th>\n",
       "      <th>OCCUPATION</th>\n",
       "      <th>POSITION</th>\n",
       "      <th>GROSS_INCOME</th>\n",
       "      <th>PRE_JOBYEARS</th>\n",
       "      <th>NETTAKEHOMEINCOME</th>\n",
       "      <th>BRANCH_PINCODE</th>\n",
       "    </tr>\n",
       "  </thead>\n",
       "  <tbody>\n",
       "    <tr>\n",
       "      <th>0</th>\n",
       "      <td>11220001</td>\n",
       "      <td>1</td>\n",
       "      <td>1.0</td>\n",
       "      <td>1.2001e+07</td>\n",
       "      <td>1.171011e+07</td>\n",
       "      <td>1.171011e+07</td>\n",
       "      <td>2010-08-30</td>\n",
       "      <td>13.734072</td>\n",
       "      <td>10.612692</td>\n",
       "      <td>58.0</td>\n",
       "      <td>...</td>\n",
       "      <td>M</td>\n",
       "      <td>M</td>\n",
       "      <td>POSTGRAD</td>\n",
       "      <td>0.0</td>\n",
       "      <td>NaN</td>\n",
       "      <td>NaN</td>\n",
       "      <td>198375.221829</td>\n",
       "      <td>8.0</td>\n",
       "      <td>198375.221829</td>\n",
       "      <td>400070.0</td>\n",
       "    </tr>\n",
       "    <tr>\n",
       "      <th>1</th>\n",
       "      <td>11220002</td>\n",
       "      <td>1</td>\n",
       "      <td>1.0</td>\n",
       "      <td>1.2001e+07</td>\n",
       "      <td>1.929025e+07</td>\n",
       "      <td>1.929025e+07</td>\n",
       "      <td>2010-09-15</td>\n",
       "      <td>13.734072</td>\n",
       "      <td>10.612692</td>\n",
       "      <td>137.0</td>\n",
       "      <td>...</td>\n",
       "      <td>M</td>\n",
       "      <td>M</td>\n",
       "      <td>POSTGRAD</td>\n",
       "      <td>0.0</td>\n",
       "      <td>NaN</td>\n",
       "      <td>NaN</td>\n",
       "      <td>242703.982915</td>\n",
       "      <td>10.0</td>\n",
       "      <td>242703.982915</td>\n",
       "      <td>400070.0</td>\n",
       "    </tr>\n",
       "    <tr>\n",
       "      <th>2</th>\n",
       "      <td>11220006</td>\n",
       "      <td>1</td>\n",
       "      <td>1.0</td>\n",
       "      <td>1.2001e+07</td>\n",
       "      <td>3.933395e+06</td>\n",
       "      <td>3.933395e+06</td>\n",
       "      <td>2010-11-01</td>\n",
       "      <td>16.231176</td>\n",
       "      <td>11.549106</td>\n",
       "      <td>359.0</td>\n",
       "      <td>...</td>\n",
       "      <td>M</td>\n",
       "      <td>M</td>\n",
       "      <td>GRAD</td>\n",
       "      <td>0.0</td>\n",
       "      <td>NaN</td>\n",
       "      <td>NaN</td>\n",
       "      <td>53536.208228</td>\n",
       "      <td>NaN</td>\n",
       "      <td>53536.208228</td>\n",
       "      <td>400070.0</td>\n",
       "    </tr>\n",
       "    <tr>\n",
       "      <th>3</th>\n",
       "      <td>11220008</td>\n",
       "      <td>1</td>\n",
       "      <td>1.0</td>\n",
       "      <td>1.2001e+07</td>\n",
       "      <td>1.002259e+07</td>\n",
       "      <td>1.002259e+07</td>\n",
       "      <td>2010-10-06</td>\n",
       "      <td>13.734072</td>\n",
       "      <td>10.612692</td>\n",
       "      <td>194.0</td>\n",
       "      <td>...</td>\n",
       "      <td>M</td>\n",
       "      <td>M</td>\n",
       "      <td>POSTGRAD</td>\n",
       "      <td>0.0</td>\n",
       "      <td>NaN</td>\n",
       "      <td>AVP</td>\n",
       "      <td>123370.483661</td>\n",
       "      <td>7.0</td>\n",
       "      <td>123370.483661</td>\n",
       "      <td>400070.0</td>\n",
       "    </tr>\n",
       "    <tr>\n",
       "      <th>4</th>\n",
       "      <td>11220010</td>\n",
       "      <td>1</td>\n",
       "      <td>1.0</td>\n",
       "      <td>1.2001e+07</td>\n",
       "      <td>7.755937e+06</td>\n",
       "      <td>7.755937e+06</td>\n",
       "      <td>2010-10-26</td>\n",
       "      <td>15.606900</td>\n",
       "      <td>10.924830</td>\n",
       "      <td>341.0</td>\n",
       "      <td>...</td>\n",
       "      <td>M</td>\n",
       "      <td>M</td>\n",
       "      <td>UG</td>\n",
       "      <td>0.0</td>\n",
       "      <td>NaN</td>\n",
       "      <td>NaN</td>\n",
       "      <td>93803.844072</td>\n",
       "      <td>NaN</td>\n",
       "      <td>93803.839568</td>\n",
       "      <td>400070.0</td>\n",
       "    </tr>\n",
       "  </tbody>\n",
       "</table>\n",
       "<p>5 rows × 54 columns</p>\n",
       "</div>"
      ],
      "text/plain": [
       "   AGREEMENTID  FORECLOSURE_x  FORECLOSURE_y  CUSTOMERID      LOAN_AMT  \\\n",
       "0     11220001              1            1.0  1.2001e+07  1.171011e+07   \n",
       "1     11220002              1            1.0  1.2001e+07  1.929025e+07   \n",
       "2     11220006              1            1.0  1.2001e+07  3.933395e+06   \n",
       "3     11220008              1            1.0  1.2001e+07  1.002259e+07   \n",
       "4     11220010              1            1.0  1.2001e+07  7.755937e+06   \n",
       "\n",
       "   NET_DISBURSED_AMT INTEREST_START_DATE  CURRENT_ROI  ORIGNAL_ROI  \\\n",
       "0       1.171011e+07          2010-08-30    13.734072    10.612692   \n",
       "1       1.929025e+07          2010-09-15    13.734072    10.612692   \n",
       "2       3.933395e+06          2010-11-01    16.231176    11.549106   \n",
       "3       1.002259e+07          2010-10-06    13.734072    10.612692   \n",
       "4       7.755937e+06          2010-10-26    15.606900    10.924830   \n",
       "\n",
       "   CURRENT_TENOR       ...        SEX  MARITAL_STATUS QUALIFICATION  \\\n",
       "0           58.0       ...          M               M      POSTGRAD   \n",
       "1          137.0       ...          M               M      POSTGRAD   \n",
       "2          359.0       ...          M               M          GRAD   \n",
       "3          194.0       ...          M               M      POSTGRAD   \n",
       "4          341.0       ...          M               M            UG   \n",
       "\n",
       "  NO_OF_DEPENDENT  OCCUPATION  POSITION   GROSS_INCOME  PRE_JOBYEARS  \\\n",
       "0             0.0         NaN       NaN  198375.221829           8.0   \n",
       "1             0.0         NaN       NaN  242703.982915          10.0   \n",
       "2             0.0         NaN       NaN   53536.208228           NaN   \n",
       "3             0.0         NaN       AVP  123370.483661           7.0   \n",
       "4             0.0         NaN       NaN   93803.844072           NaN   \n",
       "\n",
       "   NETTAKEHOMEINCOME  BRANCH_PINCODE  \n",
       "0      198375.221829        400070.0  \n",
       "1      242703.982915        400070.0  \n",
       "2       53536.208228        400070.0  \n",
       "3      123370.483661        400070.0  \n",
       "4       93803.839568        400070.0  \n",
       "\n",
       "[5 rows x 54 columns]"
      ]
     },
     "execution_count": 47,
     "metadata": {},
     "output_type": "execute_result"
    }
   ],
   "source": [
    "train.head()"
   ]
  },
  {
   "cell_type": "code",
   "execution_count": 25,
   "metadata": {},
   "outputs": [
    {
     "data": {
      "text/plain": [
       "(13342, 54)"
      ]
     },
     "execution_count": 25,
     "metadata": {},
     "output_type": "execute_result"
    }
   ],
   "source": [
    "test.shape"
   ]
  },
  {
   "cell_type": "code",
   "execution_count": 50,
   "metadata": {},
   "outputs": [
    {
     "data": {
      "text/plain": [
       "AGREEMENTID                 0\n",
       "LOAN_AMT                    0\n",
       "NET_DISBURSED_AMT           0\n",
       "CURRENT_ROI                 0\n",
       "ORIGNAL_ROI                 0\n",
       "CURRENT_TENOR               0\n",
       "ORIGNAL_TENOR               0\n",
       "DUEDAY                      0\n",
       "CITY                        1\n",
       "PRE_EMI_DUEAMT              0\n",
       "PRE_EMI_RECEIVED_AMT        0\n",
       "PRE_EMI_OS_AMOUNT           0\n",
       "EMI_DUEAMT                  0\n",
       "EMI_RECEIVED_AMT            0\n",
       "EMI_OS_AMOUNT               0\n",
       "EXCESS_AVAILABLE            0\n",
       "EXCESS_ADJUSTED_AMT         0\n",
       "BALANCE_EXCESS              0\n",
       "NET_RECEIVABLE              0\n",
       "OUTSTANDING_PRINCIPAL       0\n",
       "PAID_PRINCIPAL              0\n",
       "PAID_INTEREST               0\n",
       "MONTHOPENING                0\n",
       "LAST_RECEIPT_AMOUNT      2491\n",
       "NET_LTV                     0\n",
       "COMPLETED_TENURE            0\n",
       "BALANCE_TENURE              0\n",
       "DPD                        19\n",
       "FOIR                        0\n",
       "PRODUCT                     0\n",
       "dtype: int64"
      ]
     },
     "execution_count": 50,
     "metadata": {},
     "output_type": "execute_result"
    }
   ],
   "source": [
    "#displays number of NA values in whole data set as summary\n",
    "train.isnull().sum()"
   ]
  },
  {
   "cell_type": "code",
   "execution_count": 51,
   "metadata": {},
   "outputs": [
    {
     "data": {
      "text/plain": [
       "AGREEMENTID                 0\n",
       "LOAN_AMT                    0\n",
       "NET_DISBURSED_AMT           0\n",
       "CURRENT_ROI                 0\n",
       "ORIGNAL_ROI                 0\n",
       "CURRENT_TENOR               0\n",
       "ORIGNAL_TENOR               0\n",
       "DUEDAY                      0\n",
       "CITY                        0\n",
       "PRE_EMI_DUEAMT              0\n",
       "PRE_EMI_RECEIVED_AMT        0\n",
       "PRE_EMI_OS_AMOUNT           0\n",
       "EMI_DUEAMT                  0\n",
       "EMI_RECEIVED_AMT            0\n",
       "EMI_OS_AMOUNT               0\n",
       "EXCESS_AVAILABLE            0\n",
       "EXCESS_ADJUSTED_AMT         0\n",
       "BALANCE_EXCESS              0\n",
       "NET_RECEIVABLE              0\n",
       "OUTSTANDING_PRINCIPAL       0\n",
       "PAID_PRINCIPAL              0\n",
       "PAID_INTEREST               0\n",
       "MONTHOPENING                0\n",
       "LAST_RECEIPT_AMOUNT      1673\n",
       "NET_LTV                     0\n",
       "COMPLETED_TENURE            0\n",
       "BALANCE_TENURE              0\n",
       "DPD                        12\n",
       "FOIR                        0\n",
       "PRODUCT                     0\n",
       "dtype: int64"
      ]
     },
     "execution_count": 51,
     "metadata": {},
     "output_type": "execute_result"
    }
   ],
   "source": [
    "#displays number of NA values in whole data set as summary\n",
    "test.isnull().sum()"
   ]
  },
  {
   "cell_type": "code",
   "execution_count": 38,
   "metadata": {},
   "outputs": [
    {
     "data": {
      "text/plain": [
       "Index(['AGREEMENTID', 'FORECLOSURE_x', 'FORECLOSURE_y', 'CUSTOMERID',\n",
       "       'LOAN_AMT', 'NET_DISBURSED_AMT', 'INTEREST_START_DATE', 'CURRENT_ROI',\n",
       "       'ORIGNAL_ROI', 'CURRENT_TENOR', 'ORIGNAL_TENOR', 'DUEDAY',\n",
       "       'AUTHORIZATIONDATE', 'CITY', 'PRE_EMI_DUEAMT', 'PRE_EMI_RECEIVED_AMT',\n",
       "       'PRE_EMI_OS_AMOUNT', 'EMI_DUEAMT', 'EMI_RECEIVED_AMT', 'EMI_OS_AMOUNT',\n",
       "       'EXCESS_AVAILABLE', 'EXCESS_ADJUSTED_AMT', 'BALANCE_EXCESS',\n",
       "       'NET_RECEIVABLE', 'OUTSTANDING_PRINCIPAL', 'PAID_PRINCIPAL',\n",
       "       'PAID_INTEREST', 'MONTHOPENING', 'LAST_RECEIPT_DATE',\n",
       "       'LAST_RECEIPT_AMOUNT', 'NET_LTV', 'COMPLETED_TENURE', 'BALANCE_TENURE',\n",
       "       'DPD', 'FOIR', 'PRODUCT', 'SCHEMEID', 'NPA_IN_LAST_MONTH',\n",
       "       'NPA_IN_CURRENT_MONTH', 'MOB', 'CUST_CONSTTYPE_ID', 'CUST_CATEGORYID',\n",
       "       'PROFESSION', 'AGE', 'SEX', 'MARITAL_STATUS', 'QUALIFICATION',\n",
       "       'NO_OF_DEPENDENT', 'OCCUPATION', 'POSITION', 'GROSS_INCOME',\n",
       "       'PRE_JOBYEARS', 'NETTAKEHOMEINCOME', 'BRANCH_PINCODE'],\n",
       "      dtype='object')"
      ]
     },
     "execution_count": 38,
     "metadata": {},
     "output_type": "execute_result"
    }
   ],
   "source": [
    "train.columns"
   ]
  },
  {
   "cell_type": "code",
   "execution_count": 72,
   "metadata": {},
   "outputs": [],
   "source": [
    "train.drop(['NPA_IN_LAST_MONTH','NPA_IN_CURRENT_MONTH', 'MOB', 'CUST_CONSTTYPE_ID', 'CUST_CATEGORYID','CITY',\n",
    "       'PROFESSION', 'AGE', 'SEX', 'MARITAL_STATUS', 'QUALIFICATION',\n",
    "       'NO_OF_DEPENDENT', 'OCCUPATION', 'POSITION', 'GROSS_INCOME','LAST_RECEIPT_DATE',\n",
    "       'PRE_JOBYEARS', 'NETTAKEHOMEINCOME', 'BRANCH_PINCODE','SCHEMEID','CUSTOMERID','INTEREST_START_DATE','AUTHORIZATIONDATE','FORECLOSURE_x', 'FORECLOSURE_y'], axis=1, inplace=True)"
   ]
  },
  {
   "cell_type": "code",
   "execution_count": 73,
   "metadata": {},
   "outputs": [],
   "source": [
    "test.drop(['NPA_IN_LAST_MONTH','NPA_IN_CURRENT_MONTH', 'MOB', 'CUST_CONSTTYPE_ID', 'CUST_CATEGORYID','CITY',\n",
    "       'PROFESSION', 'AGE', 'SEX', 'MARITAL_STATUS', 'QUALIFICATION',\n",
    "       'NO_OF_DEPENDENT', 'OCCUPATION', 'POSITION', 'GROSS_INCOME','LAST_RECEIPT_DATE',\n",
    "       'PRE_JOBYEARS', 'NETTAKEHOMEINCOME', 'BRANCH_PINCODE','SCHEMEID','CUSTOMERID',\"FORECLOSURE_x\",\"FORECLOSURE_y\",'INTEREST_START_DATE','AUTHORIZATIONDATE'], axis=1, inplace=True)"
   ]
  },
  {
   "cell_type": "code",
   "execution_count": 74,
   "metadata": {},
   "outputs": [
    {
     "name": "stdout",
     "output_type": "stream",
     "text": [
      "(20012, 29)\n"
     ]
    },
    {
     "data": {
      "text/html": [
       "<div>\n",
       "<style scoped>\n",
       "    .dataframe tbody tr th:only-of-type {\n",
       "        vertical-align: middle;\n",
       "    }\n",
       "\n",
       "    .dataframe tbody tr th {\n",
       "        vertical-align: top;\n",
       "    }\n",
       "\n",
       "    .dataframe thead th {\n",
       "        text-align: right;\n",
       "    }\n",
       "</style>\n",
       "<table border=\"1\" class=\"dataframe\">\n",
       "  <thead>\n",
       "    <tr style=\"text-align: right;\">\n",
       "      <th></th>\n",
       "      <th>AGREEMENTID</th>\n",
       "      <th>LOAN_AMT</th>\n",
       "      <th>NET_DISBURSED_AMT</th>\n",
       "      <th>CURRENT_ROI</th>\n",
       "      <th>ORIGNAL_ROI</th>\n",
       "      <th>CURRENT_TENOR</th>\n",
       "      <th>ORIGNAL_TENOR</th>\n",
       "      <th>DUEDAY</th>\n",
       "      <th>PRE_EMI_DUEAMT</th>\n",
       "      <th>PRE_EMI_RECEIVED_AMT</th>\n",
       "      <th>...</th>\n",
       "      <th>PAID_PRINCIPAL</th>\n",
       "      <th>PAID_INTEREST</th>\n",
       "      <th>MONTHOPENING</th>\n",
       "      <th>LAST_RECEIPT_AMOUNT</th>\n",
       "      <th>NET_LTV</th>\n",
       "      <th>COMPLETED_TENURE</th>\n",
       "      <th>BALANCE_TENURE</th>\n",
       "      <th>DPD</th>\n",
       "      <th>FOIR</th>\n",
       "      <th>PRODUCT</th>\n",
       "    </tr>\n",
       "  </thead>\n",
       "  <tbody>\n",
       "    <tr>\n",
       "      <th>0</th>\n",
       "      <td>11220001</td>\n",
       "      <td>1.171011e+07</td>\n",
       "      <td>1.171011e+07</td>\n",
       "      <td>13.734072</td>\n",
       "      <td>10.612692</td>\n",
       "      <td>58.0</td>\n",
       "      <td>120</td>\n",
       "      <td>1</td>\n",
       "      <td>7994.273589</td>\n",
       "      <td>7994.273589</td>\n",
       "      <td>...</td>\n",
       "      <td>9.447930e+06</td>\n",
       "      <td>2.617476e+06</td>\n",
       "      <td>9.338009e+06</td>\n",
       "      <td>83559.0</td>\n",
       "      <td>40.06</td>\n",
       "      <td>39</td>\n",
       "      <td>19.0</td>\n",
       "      <td>0.0</td>\n",
       "      <td>0.60</td>\n",
       "      <td>HL</td>\n",
       "    </tr>\n",
       "    <tr>\n",
       "      <th>1</th>\n",
       "      <td>11220002</td>\n",
       "      <td>1.929025e+07</td>\n",
       "      <td>1.929025e+07</td>\n",
       "      <td>13.734072</td>\n",
       "      <td>10.612692</td>\n",
       "      <td>137.0</td>\n",
       "      <td>180</td>\n",
       "      <td>1</td>\n",
       "      <td>100504.575864</td>\n",
       "      <td>100504.575864</td>\n",
       "      <td>...</td>\n",
       "      <td>6.942656e+06</td>\n",
       "      <td>4.945154e+06</td>\n",
       "      <td>1.713861e+07</td>\n",
       "      <td>126530.0</td>\n",
       "      <td>84.31</td>\n",
       "      <td>38</td>\n",
       "      <td>99.0</td>\n",
       "      <td>0.0</td>\n",
       "      <td>0.60</td>\n",
       "      <td>HL</td>\n",
       "    </tr>\n",
       "    <tr>\n",
       "      <th>2</th>\n",
       "      <td>11220006</td>\n",
       "      <td>3.933395e+06</td>\n",
       "      <td>3.933395e+06</td>\n",
       "      <td>16.231176</td>\n",
       "      <td>11.549106</td>\n",
       "      <td>359.0</td>\n",
       "      <td>180</td>\n",
       "      <td>5</td>\n",
       "      <td>5947.630536</td>\n",
       "      <td>5947.630536</td>\n",
       "      <td>...</td>\n",
       "      <td>1.030583e+05</td>\n",
       "      <td>1.360684e+06</td>\n",
       "      <td>3.830337e+06</td>\n",
       "      <td>28518.0</td>\n",
       "      <td>50.89</td>\n",
       "      <td>36</td>\n",
       "      <td>323.0</td>\n",
       "      <td>0.0</td>\n",
       "      <td>0.72</td>\n",
       "      <td>HL</td>\n",
       "    </tr>\n",
       "    <tr>\n",
       "      <th>3</th>\n",
       "      <td>11220008</td>\n",
       "      <td>1.002259e+07</td>\n",
       "      <td>1.002259e+07</td>\n",
       "      <td>13.734072</td>\n",
       "      <td>10.612692</td>\n",
       "      <td>194.0</td>\n",
       "      <td>180</td>\n",
       "      <td>1</td>\n",
       "      <td>60322.180776</td>\n",
       "      <td>60322.180776</td>\n",
       "      <td>...</td>\n",
       "      <td>1.811075e+06</td>\n",
       "      <td>2.984047e+06</td>\n",
       "      <td>9.412549e+06</td>\n",
       "      <td>65741.0</td>\n",
       "      <td>84.63</td>\n",
       "      <td>37</td>\n",
       "      <td>157.0</td>\n",
       "      <td>0.0</td>\n",
       "      <td>0.60</td>\n",
       "      <td>HL</td>\n",
       "    </tr>\n",
       "    <tr>\n",
       "      <th>4</th>\n",
       "      <td>11220010</td>\n",
       "      <td>7.755937e+06</td>\n",
       "      <td>7.755937e+06</td>\n",
       "      <td>15.606900</td>\n",
       "      <td>10.924830</td>\n",
       "      <td>341.0</td>\n",
       "      <td>180</td>\n",
       "      <td>5</td>\n",
       "      <td>27732.787464</td>\n",
       "      <td>27732.787464</td>\n",
       "      <td>...</td>\n",
       "      <td>2.442289e+05</td>\n",
       "      <td>2.573672e+06</td>\n",
       "      <td>7.511708e+06</td>\n",
       "      <td>54433.0</td>\n",
       "      <td>30.94</td>\n",
       "      <td>36</td>\n",
       "      <td>305.0</td>\n",
       "      <td>0.0</td>\n",
       "      <td>0.83</td>\n",
       "      <td>HL</td>\n",
       "    </tr>\n",
       "  </tbody>\n",
       "</table>\n",
       "<p>5 rows × 29 columns</p>\n",
       "</div>"
      ],
      "text/plain": [
       "   AGREEMENTID      LOAN_AMT  NET_DISBURSED_AMT  CURRENT_ROI  ORIGNAL_ROI  \\\n",
       "0     11220001  1.171011e+07       1.171011e+07    13.734072    10.612692   \n",
       "1     11220002  1.929025e+07       1.929025e+07    13.734072    10.612692   \n",
       "2     11220006  3.933395e+06       3.933395e+06    16.231176    11.549106   \n",
       "3     11220008  1.002259e+07       1.002259e+07    13.734072    10.612692   \n",
       "4     11220010  7.755937e+06       7.755937e+06    15.606900    10.924830   \n",
       "\n",
       "   CURRENT_TENOR  ORIGNAL_TENOR  DUEDAY  PRE_EMI_DUEAMT  PRE_EMI_RECEIVED_AMT  \\\n",
       "0           58.0            120       1     7994.273589           7994.273589   \n",
       "1          137.0            180       1   100504.575864         100504.575864   \n",
       "2          359.0            180       5     5947.630536           5947.630536   \n",
       "3          194.0            180       1    60322.180776          60322.180776   \n",
       "4          341.0            180       5    27732.787464          27732.787464   \n",
       "\n",
       "    ...     PAID_PRINCIPAL  PAID_INTEREST  MONTHOPENING  LAST_RECEIPT_AMOUNT  \\\n",
       "0   ...       9.447930e+06   2.617476e+06  9.338009e+06              83559.0   \n",
       "1   ...       6.942656e+06   4.945154e+06  1.713861e+07             126530.0   \n",
       "2   ...       1.030583e+05   1.360684e+06  3.830337e+06              28518.0   \n",
       "3   ...       1.811075e+06   2.984047e+06  9.412549e+06              65741.0   \n",
       "4   ...       2.442289e+05   2.573672e+06  7.511708e+06              54433.0   \n",
       "\n",
       "   NET_LTV  COMPLETED_TENURE  BALANCE_TENURE  DPD  FOIR  PRODUCT  \n",
       "0    40.06                39            19.0  0.0  0.60       HL  \n",
       "1    84.31                38            99.0  0.0  0.60       HL  \n",
       "2    50.89                36           323.0  0.0  0.72       HL  \n",
       "3    84.63                37           157.0  0.0  0.60       HL  \n",
       "4    30.94                36           305.0  0.0  0.83       HL  \n",
       "\n",
       "[5 rows x 29 columns]"
      ]
     },
     "execution_count": 74,
     "metadata": {},
     "output_type": "execute_result"
    }
   ],
   "source": [
    "print(train.shape)\n",
    "train.head()"
   ]
  },
  {
   "cell_type": "code",
   "execution_count": 75,
   "metadata": {},
   "outputs": [
    {
     "name": "stdout",
     "output_type": "stream",
     "text": [
      "(13342, 29)\n"
     ]
    },
    {
     "data": {
      "text/html": [
       "<div>\n",
       "<style scoped>\n",
       "    .dataframe tbody tr th:only-of-type {\n",
       "        vertical-align: middle;\n",
       "    }\n",
       "\n",
       "    .dataframe tbody tr th {\n",
       "        vertical-align: top;\n",
       "    }\n",
       "\n",
       "    .dataframe thead th {\n",
       "        text-align: right;\n",
       "    }\n",
       "</style>\n",
       "<table border=\"1\" class=\"dataframe\">\n",
       "  <thead>\n",
       "    <tr style=\"text-align: right;\">\n",
       "      <th></th>\n",
       "      <th>AGREEMENTID</th>\n",
       "      <th>LOAN_AMT</th>\n",
       "      <th>NET_DISBURSED_AMT</th>\n",
       "      <th>CURRENT_ROI</th>\n",
       "      <th>ORIGNAL_ROI</th>\n",
       "      <th>CURRENT_TENOR</th>\n",
       "      <th>ORIGNAL_TENOR</th>\n",
       "      <th>DUEDAY</th>\n",
       "      <th>PRE_EMI_DUEAMT</th>\n",
       "      <th>PRE_EMI_RECEIVED_AMT</th>\n",
       "      <th>...</th>\n",
       "      <th>PAID_PRINCIPAL</th>\n",
       "      <th>PAID_INTEREST</th>\n",
       "      <th>MONTHOPENING</th>\n",
       "      <th>LAST_RECEIPT_AMOUNT</th>\n",
       "      <th>NET_LTV</th>\n",
       "      <th>COMPLETED_TENURE</th>\n",
       "      <th>BALANCE_TENURE</th>\n",
       "      <th>DPD</th>\n",
       "      <th>FOIR</th>\n",
       "      <th>PRODUCT</th>\n",
       "    </tr>\n",
       "  </thead>\n",
       "  <tbody>\n",
       "    <tr>\n",
       "      <th>0</th>\n",
       "      <td>11220003</td>\n",
       "      <td>4.053499e+06</td>\n",
       "      <td>4.053499e+06</td>\n",
       "      <td>17.167590</td>\n",
       "      <td>12.485520</td>\n",
       "      <td>360.0</td>\n",
       "      <td>180</td>\n",
       "      <td>5</td>\n",
       "      <td>0.000000</td>\n",
       "      <td>0.000000</td>\n",
       "      <td>...</td>\n",
       "      <td>1.085444e+05</td>\n",
       "      <td>1.549566e+06</td>\n",
       "      <td>3.944954e+06</td>\n",
       "      <td>30898.0</td>\n",
       "      <td>79.34</td>\n",
       "      <td>38</td>\n",
       "      <td>322.0</td>\n",
       "      <td>0.0</td>\n",
       "      <td>0.9100</td>\n",
       "      <td>HL</td>\n",
       "    </tr>\n",
       "    <tr>\n",
       "      <th>1</th>\n",
       "      <td>11220004</td>\n",
       "      <td>1.325703e+07</td>\n",
       "      <td>1.325703e+07</td>\n",
       "      <td>15.606900</td>\n",
       "      <td>10.924830</td>\n",
       "      <td>198.0</td>\n",
       "      <td>180</td>\n",
       "      <td>5</td>\n",
       "      <td>28441.732656</td>\n",
       "      <td>28441.732656</td>\n",
       "      <td>...</td>\n",
       "      <td>2.954253e+06</td>\n",
       "      <td>4.219464e+06</td>\n",
       "      <td>1.255472e+07</td>\n",
       "      <td>88256.0</td>\n",
       "      <td>86.86</td>\n",
       "      <td>37</td>\n",
       "      <td>161.0</td>\n",
       "      <td>0.0</td>\n",
       "      <td>0.9686</td>\n",
       "      <td>HL</td>\n",
       "    </tr>\n",
       "    <tr>\n",
       "      <th>2</th>\n",
       "      <td>11220005</td>\n",
       "      <td>1.321140e+07</td>\n",
       "      <td>1.321140e+07</td>\n",
       "      <td>16.543314</td>\n",
       "      <td>11.861244</td>\n",
       "      <td>142.0</td>\n",
       "      <td>180</td>\n",
       "      <td>5</td>\n",
       "      <td>0.000000</td>\n",
       "      <td>0.000000</td>\n",
       "      <td>...</td>\n",
       "      <td>4.732245e+06</td>\n",
       "      <td>3.812974e+06</td>\n",
       "      <td>1.178201e+07</td>\n",
       "      <td>91892.0</td>\n",
       "      <td>40.93</td>\n",
       "      <td>38</td>\n",
       "      <td>104.0</td>\n",
       "      <td>0.0</td>\n",
       "      <td>0.7300</td>\n",
       "      <td>HL</td>\n",
       "    </tr>\n",
       "    <tr>\n",
       "      <th>3</th>\n",
       "      <td>11220007</td>\n",
       "      <td>6.155313e+06</td>\n",
       "      <td>6.155313e+06</td>\n",
       "      <td>16.543314</td>\n",
       "      <td>12.485520</td>\n",
       "      <td>262.0</td>\n",
       "      <td>180</td>\n",
       "      <td>5</td>\n",
       "      <td>451447.905768</td>\n",
       "      <td>451447.905768</td>\n",
       "      <td>...</td>\n",
       "      <td>2.256132e+05</td>\n",
       "      <td>2.067353e+06</td>\n",
       "      <td>5.929700e+06</td>\n",
       "      <td>47247.0</td>\n",
       "      <td>45.32</td>\n",
       "      <td>28</td>\n",
       "      <td>234.0</td>\n",
       "      <td>0.0</td>\n",
       "      <td>1.2300</td>\n",
       "      <td>HL</td>\n",
       "    </tr>\n",
       "    <tr>\n",
       "      <th>4</th>\n",
       "      <td>11220009</td>\n",
       "      <td>9.499284e+06</td>\n",
       "      <td>9.499284e+06</td>\n",
       "      <td>18.915563</td>\n",
       "      <td>13.609217</td>\n",
       "      <td>287.0</td>\n",
       "      <td>180</td>\n",
       "      <td>5</td>\n",
       "      <td>188502.121752</td>\n",
       "      <td>188502.121752</td>\n",
       "      <td>...</td>\n",
       "      <td>2.711462e+05</td>\n",
       "      <td>3.796394e+06</td>\n",
       "      <td>9.228138e+06</td>\n",
       "      <td>77530.0</td>\n",
       "      <td>52.34</td>\n",
       "      <td>34</td>\n",
       "      <td>253.0</td>\n",
       "      <td>25.0</td>\n",
       "      <td>0.6100</td>\n",
       "      <td>LAP</td>\n",
       "    </tr>\n",
       "  </tbody>\n",
       "</table>\n",
       "<p>5 rows × 29 columns</p>\n",
       "</div>"
      ],
      "text/plain": [
       "   AGREEMENTID      LOAN_AMT  NET_DISBURSED_AMT  CURRENT_ROI  ORIGNAL_ROI  \\\n",
       "0     11220003  4.053499e+06       4.053499e+06    17.167590    12.485520   \n",
       "1     11220004  1.325703e+07       1.325703e+07    15.606900    10.924830   \n",
       "2     11220005  1.321140e+07       1.321140e+07    16.543314    11.861244   \n",
       "3     11220007  6.155313e+06       6.155313e+06    16.543314    12.485520   \n",
       "4     11220009  9.499284e+06       9.499284e+06    18.915563    13.609217   \n",
       "\n",
       "   CURRENT_TENOR  ORIGNAL_TENOR  DUEDAY  PRE_EMI_DUEAMT  PRE_EMI_RECEIVED_AMT  \\\n",
       "0          360.0            180       5        0.000000              0.000000   \n",
       "1          198.0            180       5    28441.732656          28441.732656   \n",
       "2          142.0            180       5        0.000000              0.000000   \n",
       "3          262.0            180       5   451447.905768         451447.905768   \n",
       "4          287.0            180       5   188502.121752         188502.121752   \n",
       "\n",
       "    ...     PAID_PRINCIPAL  PAID_INTEREST  MONTHOPENING  LAST_RECEIPT_AMOUNT  \\\n",
       "0   ...       1.085444e+05   1.549566e+06  3.944954e+06              30898.0   \n",
       "1   ...       2.954253e+06   4.219464e+06  1.255472e+07              88256.0   \n",
       "2   ...       4.732245e+06   3.812974e+06  1.178201e+07              91892.0   \n",
       "3   ...       2.256132e+05   2.067353e+06  5.929700e+06              47247.0   \n",
       "4   ...       2.711462e+05   3.796394e+06  9.228138e+06              77530.0   \n",
       "\n",
       "   NET_LTV  COMPLETED_TENURE  BALANCE_TENURE   DPD    FOIR  PRODUCT  \n",
       "0    79.34                38           322.0   0.0  0.9100       HL  \n",
       "1    86.86                37           161.0   0.0  0.9686       HL  \n",
       "2    40.93                38           104.0   0.0  0.7300       HL  \n",
       "3    45.32                28           234.0   0.0  1.2300       HL  \n",
       "4    52.34                34           253.0  25.0  0.6100      LAP  \n",
       "\n",
       "[5 rows x 29 columns]"
      ]
     },
     "execution_count": 75,
     "metadata": {},
     "output_type": "execute_result"
    }
   ],
   "source": [
    "print(test.shape)\n",
    "test.head()"
   ]
  },
  {
   "cell_type": "code",
   "execution_count": 76,
   "metadata": {},
   "outputs": [
    {
     "data": {
      "text/plain": [
       "AGREEMENTID                int64\n",
       "LOAN_AMT                 float64\n",
       "NET_DISBURSED_AMT        float64\n",
       "CURRENT_ROI              float64\n",
       "ORIGNAL_ROI              float64\n",
       "CURRENT_TENOR            float64\n",
       "ORIGNAL_TENOR              int64\n",
       "DUEDAY                     int64\n",
       "PRE_EMI_DUEAMT           float64\n",
       "PRE_EMI_RECEIVED_AMT     float64\n",
       "PRE_EMI_OS_AMOUNT        float64\n",
       "EMI_DUEAMT               float64\n",
       "EMI_RECEIVED_AMT         float64\n",
       "EMI_OS_AMOUNT            float64\n",
       "EXCESS_AVAILABLE         float64\n",
       "EXCESS_ADJUSTED_AMT      float64\n",
       "BALANCE_EXCESS           float64\n",
       "NET_RECEIVABLE           float64\n",
       "OUTSTANDING_PRINCIPAL    float64\n",
       "PAID_PRINCIPAL           float64\n",
       "PAID_INTEREST            float64\n",
       "MONTHOPENING             float64\n",
       "LAST_RECEIPT_AMOUNT      float64\n",
       "NET_LTV                  float64\n",
       "COMPLETED_TENURE           int64\n",
       "BALANCE_TENURE           float64\n",
       "DPD                      float64\n",
       "FOIR                     float64\n",
       "PRODUCT                   object\n",
       "dtype: object"
      ]
     },
     "execution_count": 76,
     "metadata": {},
     "output_type": "execute_result"
    }
   ],
   "source": [
    "train.dtypes"
   ]
  },
  {
   "cell_type": "code",
   "execution_count": 77,
   "metadata": {},
   "outputs": [
    {
     "data": {
      "text/plain": [
       "array(['HL', 'LAP', 'STHL', 'STLAP'], dtype=object)"
      ]
     },
     "execution_count": 77,
     "metadata": {},
     "output_type": "execute_result"
    }
   ],
   "source": [
    "train[\"PRODUCT\"].unique()"
   ]
  },
  {
   "cell_type": "code",
   "execution_count": 78,
   "metadata": {},
   "outputs": [],
   "source": [
    "train['PRODUCT']=train.PRODUCT.map({'HL':0,'LAP':1,'STHL':2,'STLAP':3})\n",
    "test['PRODUCT']=test.PRODUCT.map({'HL':0,'LAP':1,'STHL':2,'STLAP':3})"
   ]
  },
  {
   "cell_type": "code",
   "execution_count": 79,
   "metadata": {},
   "outputs": [],
   "source": [
    "train['PRODUCT']=train.PRODUCT.map({'HL':0,'LAP':1,'STHL':2,'STLAP':3})\n",
    "test['PRODUCT']=test.PRODUCT.map({'HL':0,'LAP':1,'STHL':2,'STLAP':3})"
   ]
  },
  {
   "cell_type": "code",
   "execution_count": 80,
   "metadata": {},
   "outputs": [],
   "source": [
    "train = train.fillna(train['LAST_RECEIPT_AMOUNT'].value_counts().index[0])\n",
    "test = test.fillna(test['LAST_RECEIPT_AMOUNT'].value_counts().index[0])\n"
   ]
  },
  {
   "cell_type": "code",
   "execution_count": 81,
   "metadata": {},
   "outputs": [],
   "source": [
    "train = train.fillna(train['DPD'].value_counts().index[0])\n",
    "test = test.fillna(test['DPD'].value_counts().index[0])\n"
   ]
  },
  {
   "cell_type": "code",
   "execution_count": 82,
   "metadata": {},
   "outputs": [],
   "source": [
    "Y = train_data[\"FORECLOSURE\"]"
   ]
  },
  {
   "cell_type": "code",
   "execution_count": 83,
   "metadata": {},
   "outputs": [
    {
     "name": "stdout",
     "output_type": "stream",
     "text": [
      "(15009, 29)\n",
      "(5003, 29)\n",
      "(15009,)\n",
      "(5003,)\n"
     ]
    },
    {
     "name": "stderr",
     "output_type": "stream",
     "text": [
      "C:\\ProgramData\\Anaconda3\\lib\\site-packages\\sklearn\\cross_validation.py:41: DeprecationWarning: This module was deprecated in version 0.18 in favor of the model_selection module into which all the refactored classes and functions are moved. Also note that the interface of the new CV iterators are different from that of this module. This module will be removed in 0.20.\n",
      "  \"This module will be removed in 0.20.\", DeprecationWarning)\n"
     ]
    }
   ],
   "source": [
    "# split X and y into training and testing sets\n",
    "from sklearn.cross_validation import train_test_split\n",
    "X_train, X_test, y_train, y_test = train_test_split(train, Y, random_state=1)\n",
    "print(X_train.shape)\n",
    "print(X_test.shape)\n",
    "print(y_train.shape)\n",
    "print(y_test.shape)"
   ]
  },
  {
   "cell_type": "code",
   "execution_count": 100,
   "metadata": {},
   "outputs": [
    {
     "data": {
      "text/plain": [
       "RandomForestClassifier(bootstrap=True, class_weight=None, criterion='gini',\n",
       "            max_depth=None, max_features='auto', max_leaf_nodes=None,\n",
       "            min_impurity_decrease=0.0, min_impurity_split=None,\n",
       "            min_samples_leaf=1, min_samples_split=2,\n",
       "            min_weight_fraction_leaf=0.0, n_estimators=200, n_jobs=1,\n",
       "            oob_score=False, random_state=None, verbose=0,\n",
       "            warm_start=False)"
      ]
     },
     "execution_count": 100,
     "metadata": {},
     "output_type": "execute_result"
    }
   ],
   "source": [
    "from sklearn.ensemble import RandomForestClassifier\n",
    "model = RandomForestClassifier(n_estimators=200)\n",
    "model.fit(train,Y)"
   ]
  },
  {
   "cell_type": "code",
   "execution_count": 219,
   "metadata": {},
   "outputs": [
    {
     "data": {
      "text/html": [
       "<div>\n",
       "<style scoped>\n",
       "    .dataframe tbody tr th:only-of-type {\n",
       "        vertical-align: middle;\n",
       "    }\n",
       "\n",
       "    .dataframe tbody tr th {\n",
       "        vertical-align: top;\n",
       "    }\n",
       "\n",
       "    .dataframe thead th {\n",
       "        text-align: right;\n",
       "    }\n",
       "</style>\n",
       "<table border=\"1\" class=\"dataframe\">\n",
       "  <thead>\n",
       "    <tr style=\"text-align: right;\">\n",
       "      <th></th>\n",
       "      <th>AGREEMENTID</th>\n",
       "    </tr>\n",
       "  </thead>\n",
       "  <tbody>\n",
       "    <tr>\n",
       "      <th>0</th>\n",
       "      <td>11220003</td>\n",
       "    </tr>\n",
       "    <tr>\n",
       "      <th>1</th>\n",
       "      <td>11220004</td>\n",
       "    </tr>\n",
       "    <tr>\n",
       "      <th>2</th>\n",
       "      <td>11220005</td>\n",
       "    </tr>\n",
       "    <tr>\n",
       "      <th>3</th>\n",
       "      <td>11220007</td>\n",
       "    </tr>\n",
       "    <tr>\n",
       "      <th>4</th>\n",
       "      <td>11220009</td>\n",
       "    </tr>\n",
       "  </tbody>\n",
       "</table>\n",
       "</div>"
      ],
      "text/plain": [
       "   AGREEMENTID\n",
       "0     11220003\n",
       "1     11220004\n",
       "2     11220005\n",
       "3     11220007\n",
       "4     11220009"
      ]
     },
     "execution_count": 219,
     "metadata": {},
     "output_type": "execute_result"
    }
   ],
   "source": [
    "test_data.head()"
   ]
  },
  {
   "cell_type": "code",
   "execution_count": 226,
   "metadata": {},
   "outputs": [],
   "source": [
    "predictions = model.predict_proba(test)[:,1]"
   ]
  },
  {
   "cell_type": "code",
   "execution_count": 101,
   "metadata": {},
   "outputs": [],
   "source": [
    "#predictions = model.predict_proba(test)\n",
    "predictions = model.predict_proba(test)[:,1]\n",
    "final_result = pd.DataFrame({'AGREEMENTID':test_data['AGREEMENTID'],'FORECLOSURE':predictions})\n",
    "final_result.to_csv('4stSolution.csv',index=False)"
   ]
  },
  {
   "cell_type": "code",
   "execution_count": 222,
   "metadata": {},
   "outputs": [],
   "source": [
    "import numpy as np"
   ]
  },
  {
   "cell_type": "code",
   "execution_count": 98,
   "metadata": {},
   "outputs": [
    {
     "data": {
      "text/plain": [
       "XGBClassifier(base_score=0.5, booster='gbtree', colsample_bylevel=1,\n",
       "       colsample_bytree=1, gamma=0, learning_rate=0.1, max_delta_step=0,\n",
       "       max_depth=3, min_child_weight=1, missing=None, n_estimators=100,\n",
       "       n_jobs=1, nthread=None, objective='binary:logistic', random_state=0,\n",
       "       reg_alpha=0, reg_lambda=1, scale_pos_weight=1, seed=None,\n",
       "       silent=True, subsample=1)"
      ]
     },
     "execution_count": 98,
     "metadata": {},
     "output_type": "execute_result"
    }
   ],
   "source": [
    "model = XGBClassifier()\n",
    "model.fit(train, Y)"
   ]
  },
  {
   "cell_type": "code",
   "execution_count": 97,
   "metadata": {},
   "outputs": [
    {
     "name": "stderr",
     "output_type": "stream",
     "text": [
      "C:\\ProgramData\\Anaconda3\\lib\\site-packages\\sklearn\\preprocessing\\label.py:151: DeprecationWarning: The truth value of an empty array is ambiguous. Returning False, but in future this will result in an error. Use `array.size > 0` to check that an array is not empty.\n",
      "  if diff:\n"
     ]
    }
   ],
   "source": [
    "y_pred = model.predict(test)\n",
    "predictions = [round(value) for value in y_pred]"
   ]
  },
  {
   "cell_type": "code",
   "execution_count": 102,
   "metadata": {},
   "outputs": [
    {
     "name": "stdout",
     "output_type": "stream",
     "text": [
      "[0.06360544 0.06260951 0.07591828 0.08657027 0.0369003  0.03687258\n",
      " 0.02686337 0.03431593 0.03153804 0.00091543 0.02172845 0.02173942\n",
      " 0.00125058 0.00812656 0.00214038 0.00712816 0.00875823 0.06251744\n",
      " 0.01942489 0.03610357 0.06261996 0.08130186 0.08335897 0.01664278\n",
      " 0.03843227 0.00267196 0.06994536 0.        ]\n"
     ]
    },
    {
     "data": {
      "image/png": "[encoded data removed]",
      "text/plain": [
       "<matplotlib.figure.Figure at 0x1ce3e0d1278>"
      ]
     },
     "metadata": {},
     "output_type": "display_data"
    }
   ],
   "source": [
    "# feature importance\n",
    "print(model.feature_importances_)\n",
    "# plot\n",
    "plt.bar(range(len(model.feature_importances_)), model.feature_importances_)\n",
    "plt.show()"
   ]
  },
  {
   "cell_type": "code",
   "execution_count": 92,
   "metadata": {},
   "outputs": [
    {
     "data": {
      "text/html": [
       "<div>\n",
       "<style scoped>\n",
       "    .dataframe tbody tr th:only-of-type {\n",
       "        vertical-align: middle;\n",
       "    }\n",
       "\n",
       "    .dataframe tbody tr th {\n",
       "        vertical-align: top;\n",
       "    }\n",
       "\n",
       "    .dataframe thead th {\n",
       "        text-align: right;\n",
       "    }\n",
       "</style>\n",
       "<table border=\"1\" class=\"dataframe\">\n",
       "  <thead>\n",
       "    <tr style=\"text-align: right;\">\n",
       "      <th></th>\n",
       "      <th>AGREEMENTID</th>\n",
       "      <th>LOAN_AMT</th>\n",
       "      <th>NET_DISBURSED_AMT</th>\n",
       "      <th>CURRENT_ROI</th>\n",
       "      <th>ORIGNAL_ROI</th>\n",
       "      <th>CURRENT_TENOR</th>\n",
       "      <th>ORIGNAL_TENOR</th>\n",
       "      <th>DUEDAY</th>\n",
       "      <th>PRE_EMI_DUEAMT</th>\n",
       "      <th>PRE_EMI_RECEIVED_AMT</th>\n",
       "      <th>...</th>\n",
       "      <th>PAID_PRINCIPAL</th>\n",
       "      <th>PAID_INTEREST</th>\n",
       "      <th>MONTHOPENING</th>\n",
       "      <th>LAST_RECEIPT_AMOUNT</th>\n",
       "      <th>NET_LTV</th>\n",
       "      <th>COMPLETED_TENURE</th>\n",
       "      <th>BALANCE_TENURE</th>\n",
       "      <th>DPD</th>\n",
       "      <th>FOIR</th>\n",
       "      <th>PRODUCT</th>\n",
       "    </tr>\n",
       "  </thead>\n",
       "  <tbody>\n",
       "    <tr>\n",
       "      <th>0</th>\n",
       "      <td>11220001</td>\n",
       "      <td>1.171011e+07</td>\n",
       "      <td>1.171011e+07</td>\n",
       "      <td>13.734072</td>\n",
       "      <td>10.612692</td>\n",
       "      <td>58.0</td>\n",
       "      <td>120</td>\n",
       "      <td>1</td>\n",
       "      <td>7994.273589</td>\n",
       "      <td>7994.273589</td>\n",
       "      <td>...</td>\n",
       "      <td>9.447930e+06</td>\n",
       "      <td>2.617476e+06</td>\n",
       "      <td>9.338009e+06</td>\n",
       "      <td>83559.0</td>\n",
       "      <td>40.06</td>\n",
       "      <td>39</td>\n",
       "      <td>19.0</td>\n",
       "      <td>0.0</td>\n",
       "      <td>0.60</td>\n",
       "      <td>118.0</td>\n",
       "    </tr>\n",
       "    <tr>\n",
       "      <th>1</th>\n",
       "      <td>11220002</td>\n",
       "      <td>1.929025e+07</td>\n",
       "      <td>1.929025e+07</td>\n",
       "      <td>13.734072</td>\n",
       "      <td>10.612692</td>\n",
       "      <td>137.0</td>\n",
       "      <td>180</td>\n",
       "      <td>1</td>\n",
       "      <td>100504.575864</td>\n",
       "      <td>100504.575864</td>\n",
       "      <td>...</td>\n",
       "      <td>6.942656e+06</td>\n",
       "      <td>4.945154e+06</td>\n",
       "      <td>1.713861e+07</td>\n",
       "      <td>126530.0</td>\n",
       "      <td>84.31</td>\n",
       "      <td>38</td>\n",
       "      <td>99.0</td>\n",
       "      <td>0.0</td>\n",
       "      <td>0.60</td>\n",
       "      <td>118.0</td>\n",
       "    </tr>\n",
       "    <tr>\n",
       "      <th>2</th>\n",
       "      <td>11220006</td>\n",
       "      <td>3.933395e+06</td>\n",
       "      <td>3.933395e+06</td>\n",
       "      <td>16.231176</td>\n",
       "      <td>11.549106</td>\n",
       "      <td>359.0</td>\n",
       "      <td>180</td>\n",
       "      <td>5</td>\n",
       "      <td>5947.630536</td>\n",
       "      <td>5947.630536</td>\n",
       "      <td>...</td>\n",
       "      <td>1.030583e+05</td>\n",
       "      <td>1.360684e+06</td>\n",
       "      <td>3.830337e+06</td>\n",
       "      <td>28518.0</td>\n",
       "      <td>50.89</td>\n",
       "      <td>36</td>\n",
       "      <td>323.0</td>\n",
       "      <td>0.0</td>\n",
       "      <td>0.72</td>\n",
       "      <td>118.0</td>\n",
       "    </tr>\n",
       "    <tr>\n",
       "      <th>3</th>\n",
       "      <td>11220008</td>\n",
       "      <td>1.002259e+07</td>\n",
       "      <td>1.002259e+07</td>\n",
       "      <td>13.734072</td>\n",
       "      <td>10.612692</td>\n",
       "      <td>194.0</td>\n",
       "      <td>180</td>\n",
       "      <td>1</td>\n",
       "      <td>60322.180776</td>\n",
       "      <td>60322.180776</td>\n",
       "      <td>...</td>\n",
       "      <td>1.811075e+06</td>\n",
       "      <td>2.984047e+06</td>\n",
       "      <td>9.412549e+06</td>\n",
       "      <td>65741.0</td>\n",
       "      <td>84.63</td>\n",
       "      <td>37</td>\n",
       "      <td>157.0</td>\n",
       "      <td>0.0</td>\n",
       "      <td>0.60</td>\n",
       "      <td>118.0</td>\n",
       "    </tr>\n",
       "    <tr>\n",
       "      <th>4</th>\n",
       "      <td>11220010</td>\n",
       "      <td>7.755937e+06</td>\n",
       "      <td>7.755937e+06</td>\n",
       "      <td>15.606900</td>\n",
       "      <td>10.924830</td>\n",
       "      <td>341.0</td>\n",
       "      <td>180</td>\n",
       "      <td>5</td>\n",
       "      <td>27732.787464</td>\n",
       "      <td>27732.787464</td>\n",
       "      <td>...</td>\n",
       "      <td>2.442289e+05</td>\n",
       "      <td>2.573672e+06</td>\n",
       "      <td>7.511708e+06</td>\n",
       "      <td>54433.0</td>\n",
       "      <td>30.94</td>\n",
       "      <td>36</td>\n",
       "      <td>305.0</td>\n",
       "      <td>0.0</td>\n",
       "      <td>0.83</td>\n",
       "      <td>118.0</td>\n",
       "    </tr>\n",
       "  </tbody>\n",
       "</table>\n",
       "<p>5 rows × 29 columns</p>\n",
       "</div>"
      ],
      "text/plain": [
       "   AGREEMENTID      LOAN_AMT  NET_DISBURSED_AMT  CURRENT_ROI  ORIGNAL_ROI  \\\n",
       "0     11220001  1.171011e+07       1.171011e+07    13.734072    10.612692   \n",
       "1     11220002  1.929025e+07       1.929025e+07    13.734072    10.612692   \n",
       "2     11220006  3.933395e+06       3.933395e+06    16.231176    11.549106   \n",
       "3     11220008  1.002259e+07       1.002259e+07    13.734072    10.612692   \n",
       "4     11220010  7.755937e+06       7.755937e+06    15.606900    10.924830   \n",
       "\n",
       "   CURRENT_TENOR  ORIGNAL_TENOR  DUEDAY  PRE_EMI_DUEAMT  PRE_EMI_RECEIVED_AMT  \\\n",
       "0           58.0            120       1     7994.273589           7994.273589   \n",
       "1          137.0            180       1   100504.575864         100504.575864   \n",
       "2          359.0            180       5     5947.630536           5947.630536   \n",
       "3          194.0            180       1    60322.180776          60322.180776   \n",
       "4          341.0            180       5    27732.787464          27732.787464   \n",
       "\n",
       "    ...     PAID_PRINCIPAL  PAID_INTEREST  MONTHOPENING  LAST_RECEIPT_AMOUNT  \\\n",
       "0   ...       9.447930e+06   2.617476e+06  9.338009e+06              83559.0   \n",
       "1   ...       6.942656e+06   4.945154e+06  1.713861e+07             126530.0   \n",
       "2   ...       1.030583e+05   1.360684e+06  3.830337e+06              28518.0   \n",
       "3   ...       1.811075e+06   2.984047e+06  9.412549e+06              65741.0   \n",
       "4   ...       2.442289e+05   2.573672e+06  7.511708e+06              54433.0   \n",
       "\n",
       "   NET_LTV  COMPLETED_TENURE  BALANCE_TENURE  DPD  FOIR  PRODUCT  \n",
       "0    40.06                39            19.0  0.0  0.60    118.0  \n",
       "1    84.31                38            99.0  0.0  0.60    118.0  \n",
       "2    50.89                36           323.0  0.0  0.72    118.0  \n",
       "3    84.63                37           157.0  0.0  0.60    118.0  \n",
       "4    30.94                36           305.0  0.0  0.83    118.0  \n",
       "\n",
       "[5 rows x 29 columns]"
      ]
     },
     "execution_count": 92,
     "metadata": {},
     "output_type": "execute_result"
    }
   ],
   "source": [
    "train.head()"
   ]
  },
  {
   "cell_type": "code",
   "execution_count": 93,
   "metadata": {},
   "outputs": [],
   "source": [
    "train.drop([\"AGREEMENTID\"],axis = 1, inplace = True)"
   ]
  },
  {
   "cell_type": "code",
   "execution_count": 94,
   "metadata": {},
   "outputs": [],
   "source": [
    "test.drop([\"AGREEMENTID\"],axis = 1, inplace = True)"
   ]
  },
  {
   "cell_type": "code",
   "execution_count": null,
   "metadata": {},
   "outputs": [],
   "source": []
  },
  {
   "cell_type": "code",
   "execution_count": null,
   "metadata": {},
   "outputs": [],
   "source": []
  },
  {
   "cell_type": "code",
   "execution_count": null,
   "metadata": {},
   "outputs": [],
   "source": [
    "aaaaaa"
   ]
  },
  {
   "cell_type": "code",
   "execution_count": null,
   "metadata": {},
   "outputs": [],
   "source": []
  },
  {
   "cell_type": "code",
   "execution_count": null,
   "metadata": {},
   "outputs": [],
   "source": []
  },
  {
   "cell_type": "code",
   "execution_count": 116,
   "metadata": {},
   "outputs": [
    {
     "data": {
      "text/html": [
       "<div>\n",
       "<style scoped>\n",
       "    .dataframe tbody tr th:only-of-type {\n",
       "        vertical-align: middle;\n",
       "    }\n",
       "\n",
       "    .dataframe tbody tr th {\n",
       "        vertical-align: top;\n",
       "    }\n",
       "\n",
       "    .dataframe thead th {\n",
       "        text-align: right;\n",
       "    }\n",
       "</style>\n",
       "<table border=\"1\" class=\"dataframe\">\n",
       "  <thead>\n",
       "    <tr style=\"text-align: right;\">\n",
       "      <th></th>\n",
       "      <th>AGREEMENTID</th>\n",
       "      <th>FORECLOSURE</th>\n",
       "      <th>CUSTOMERID</th>\n",
       "      <th>LOAN_AMT</th>\n",
       "      <th>NET_DISBURSED_AMT</th>\n",
       "      <th>INTEREST_START_DATE</th>\n",
       "      <th>CURRENT_ROI</th>\n",
       "      <th>ORIGNAL_ROI</th>\n",
       "      <th>CURRENT_TENOR</th>\n",
       "      <th>ORIGNAL_TENOR</th>\n",
       "      <th>...</th>\n",
       "      <th>SEX</th>\n",
       "      <th>MARITAL_STATUS</th>\n",
       "      <th>QUALIFICATION</th>\n",
       "      <th>NO_OF_DEPENDENT</th>\n",
       "      <th>OCCUPATION</th>\n",
       "      <th>POSITION</th>\n",
       "      <th>GROSS_INCOME</th>\n",
       "      <th>PRE_JOBYEARS</th>\n",
       "      <th>NETTAKEHOMEINCOME</th>\n",
       "      <th>BRANCH_PINCODE</th>\n",
       "    </tr>\n",
       "  </thead>\n",
       "  <tbody>\n",
       "    <tr>\n",
       "      <th>0</th>\n",
       "      <td>11220001</td>\n",
       "      <td>1.0</td>\n",
       "      <td>1.2001e+07</td>\n",
       "      <td>11710107.24</td>\n",
       "      <td>11710107.24</td>\n",
       "      <td>2010-08-30</td>\n",
       "      <td>13.734072</td>\n",
       "      <td>10.612692</td>\n",
       "      <td>58.0</td>\n",
       "      <td>120</td>\n",
       "      <td>...</td>\n",
       "      <td>M</td>\n",
       "      <td>M</td>\n",
       "      <td>POSTGRAD</td>\n",
       "      <td>0.0</td>\n",
       "      <td>NaN</td>\n",
       "      <td>NaN</td>\n",
       "      <td>198375.221829</td>\n",
       "      <td>8.0</td>\n",
       "      <td>198375.221829</td>\n",
       "      <td>400070.0</td>\n",
       "    </tr>\n",
       "    <tr>\n",
       "      <th>1</th>\n",
       "      <td>11220001</td>\n",
       "      <td>1.0</td>\n",
       "      <td>1.2001e+07</td>\n",
       "      <td>11710107.24</td>\n",
       "      <td>11710107.24</td>\n",
       "      <td>2010-08-30</td>\n",
       "      <td>13.734072</td>\n",
       "      <td>10.612692</td>\n",
       "      <td>58.0</td>\n",
       "      <td>120</td>\n",
       "      <td>...</td>\n",
       "      <td>M</td>\n",
       "      <td>M</td>\n",
       "      <td>POSTGRAD</td>\n",
       "      <td>0.0</td>\n",
       "      <td>NaN</td>\n",
       "      <td>NaN</td>\n",
       "      <td>198375.221829</td>\n",
       "      <td>8.0</td>\n",
       "      <td>198375.221829</td>\n",
       "      <td>400070.0</td>\n",
       "    </tr>\n",
       "    <tr>\n",
       "      <th>2</th>\n",
       "      <td>11220001</td>\n",
       "      <td>1.0</td>\n",
       "      <td>1.2001e+07</td>\n",
       "      <td>11710107.24</td>\n",
       "      <td>11710107.24</td>\n",
       "      <td>2010-08-30</td>\n",
       "      <td>13.421934</td>\n",
       "      <td>10.612692</td>\n",
       "      <td>58.0</td>\n",
       "      <td>120</td>\n",
       "      <td>...</td>\n",
       "      <td>M</td>\n",
       "      <td>M</td>\n",
       "      <td>POSTGRAD</td>\n",
       "      <td>0.0</td>\n",
       "      <td>NaN</td>\n",
       "      <td>NaN</td>\n",
       "      <td>198375.221829</td>\n",
       "      <td>8.0</td>\n",
       "      <td>198375.221829</td>\n",
       "      <td>400070.0</td>\n",
       "    </tr>\n",
       "    <tr>\n",
       "      <th>3</th>\n",
       "      <td>11220001</td>\n",
       "      <td>1.0</td>\n",
       "      <td>1.2001e+07</td>\n",
       "      <td>11710107.24</td>\n",
       "      <td>11710107.24</td>\n",
       "      <td>2010-08-30</td>\n",
       "      <td>13.421934</td>\n",
       "      <td>10.612692</td>\n",
       "      <td>58.0</td>\n",
       "      <td>120</td>\n",
       "      <td>...</td>\n",
       "      <td>M</td>\n",
       "      <td>M</td>\n",
       "      <td>POSTGRAD</td>\n",
       "      <td>0.0</td>\n",
       "      <td>NaN</td>\n",
       "      <td>NaN</td>\n",
       "      <td>198375.221829</td>\n",
       "      <td>8.0</td>\n",
       "      <td>198375.221829</td>\n",
       "      <td>400070.0</td>\n",
       "    </tr>\n",
       "    <tr>\n",
       "      <th>4</th>\n",
       "      <td>11220001</td>\n",
       "      <td>1.0</td>\n",
       "      <td>1.2001e+07</td>\n",
       "      <td>11710107.24</td>\n",
       "      <td>11710107.24</td>\n",
       "      <td>2010-08-30</td>\n",
       "      <td>13.421934</td>\n",
       "      <td>10.612692</td>\n",
       "      <td>58.0</td>\n",
       "      <td>120</td>\n",
       "      <td>...</td>\n",
       "      <td>M</td>\n",
       "      <td>M</td>\n",
       "      <td>POSTGRAD</td>\n",
       "      <td>0.0</td>\n",
       "      <td>NaN</td>\n",
       "      <td>NaN</td>\n",
       "      <td>198375.221829</td>\n",
       "      <td>8.0</td>\n",
       "      <td>198375.221829</td>\n",
       "      <td>400070.0</td>\n",
       "    </tr>\n",
       "  </tbody>\n",
       "</table>\n",
       "<p>5 rows × 53 columns</p>\n",
       "</div>"
      ],
      "text/plain": [
       "   AGREEMENTID  FORECLOSURE  CUSTOMERID     LOAN_AMT  NET_DISBURSED_AMT  \\\n",
       "0     11220001          1.0  1.2001e+07  11710107.24        11710107.24   \n",
       "1     11220001          1.0  1.2001e+07  11710107.24        11710107.24   \n",
       "2     11220001          1.0  1.2001e+07  11710107.24        11710107.24   \n",
       "3     11220001          1.0  1.2001e+07  11710107.24        11710107.24   \n",
       "4     11220001          1.0  1.2001e+07  11710107.24        11710107.24   \n",
       "\n",
       "  INTEREST_START_DATE  CURRENT_ROI  ORIGNAL_ROI  CURRENT_TENOR  ORIGNAL_TENOR  \\\n",
       "0          2010-08-30    13.734072    10.612692           58.0            120   \n",
       "1          2010-08-30    13.734072    10.612692           58.0            120   \n",
       "2          2010-08-30    13.421934    10.612692           58.0            120   \n",
       "3          2010-08-30    13.421934    10.612692           58.0            120   \n",
       "4          2010-08-30    13.421934    10.612692           58.0            120   \n",
       "\n",
       "        ...        SEX MARITAL_STATUS QUALIFICATION  NO_OF_DEPENDENT  \\\n",
       "0       ...          M              M      POSTGRAD              0.0   \n",
       "1       ...          M              M      POSTGRAD              0.0   \n",
       "2       ...          M              M      POSTGRAD              0.0   \n",
       "3       ...          M              M      POSTGRAD              0.0   \n",
       "4       ...          M              M      POSTGRAD              0.0   \n",
       "\n",
       "   OCCUPATION  POSITION   GROSS_INCOME  PRE_JOBYEARS  NETTAKEHOMEINCOME  \\\n",
       "0         NaN       NaN  198375.221829           8.0      198375.221829   \n",
       "1         NaN       NaN  198375.221829           8.0      198375.221829   \n",
       "2         NaN       NaN  198375.221829           8.0      198375.221829   \n",
       "3         NaN       NaN  198375.221829           8.0      198375.221829   \n",
       "4         NaN       NaN  198375.221829           8.0      198375.221829   \n",
       "\n",
       "   BRANCH_PINCODE  \n",
       "0        400070.0  \n",
       "1        400070.0  \n",
       "2        400070.0  \n",
       "3        400070.0  \n",
       "4        400070.0  \n",
       "\n",
       "[5 rows x 53 columns]"
      ]
     },
     "execution_count": 116,
     "metadata": {},
     "output_type": "execute_result"
    }
   ],
   "source": []
  },
  {
   "cell_type": "code",
   "execution_count": 111,
   "metadata": {},
   "outputs": [
    {
     "data": {
      "text/html": [
       "<div>\n",
       "<style scoped>\n",
       "    .dataframe tbody tr th:only-of-type {\n",
       "        vertical-align: middle;\n",
       "    }\n",
       "\n",
       "    .dataframe tbody tr th {\n",
       "        vertical-align: top;\n",
       "    }\n",
       "\n",
       "    .dataframe thead th {\n",
       "        text-align: right;\n",
       "    }\n",
       "</style>\n",
       "<table border=\"1\" class=\"dataframe\">\n",
       "  <thead>\n",
       "    <tr style=\"text-align: right;\">\n",
       "      <th></th>\n",
       "      <th>AGREEMENTID</th>\n",
       "      <th>FORECLOSURE</th>\n",
       "      <th>CUSTOMERID</th>\n",
       "      <th>LOAN_AMT</th>\n",
       "      <th>NET_DISBURSED_AMT</th>\n",
       "      <th>INTEREST_START_DATE</th>\n",
       "      <th>CURRENT_ROI</th>\n",
       "      <th>ORIGNAL_ROI</th>\n",
       "      <th>CURRENT_TENOR</th>\n",
       "      <th>ORIGNAL_TENOR</th>\n",
       "      <th>...</th>\n",
       "      <th>NET_LTV</th>\n",
       "      <th>COMPLETED_TENURE</th>\n",
       "      <th>BALANCE_TENURE</th>\n",
       "      <th>DPD</th>\n",
       "      <th>FOIR</th>\n",
       "      <th>PRODUCT</th>\n",
       "      <th>SCHEMEID</th>\n",
       "      <th>NPA_IN_LAST_MONTH</th>\n",
       "      <th>NPA_IN_CURRENT_MONTH</th>\n",
       "      <th>MOB</th>\n",
       "    </tr>\n",
       "  </thead>\n",
       "  <tbody>\n",
       "    <tr>\n",
       "      <th>0</th>\n",
       "      <td>11220001</td>\n",
       "      <td>1.0</td>\n",
       "      <td>12001000.0</td>\n",
       "      <td>11710107.24</td>\n",
       "      <td>11710107.24</td>\n",
       "      <td>2010-08-30</td>\n",
       "      <td>13.734072</td>\n",
       "      <td>10.612692</td>\n",
       "      <td>58.0</td>\n",
       "      <td>120</td>\n",
       "      <td>...</td>\n",
       "      <td>40.06</td>\n",
       "      <td>39</td>\n",
       "      <td>19.0</td>\n",
       "      <td>0.0</td>\n",
       "      <td>0.6</td>\n",
       "      <td>HL</td>\n",
       "      <td>10901100.0</td>\n",
       "      <td>NaN</td>\n",
       "      <td>NaN</td>\n",
       "      <td>39</td>\n",
       "    </tr>\n",
       "    <tr>\n",
       "      <th>1</th>\n",
       "      <td>11220001</td>\n",
       "      <td>1.0</td>\n",
       "      <td>12001000.0</td>\n",
       "      <td>11710107.24</td>\n",
       "      <td>11710107.24</td>\n",
       "      <td>2010-08-30</td>\n",
       "      <td>13.734072</td>\n",
       "      <td>10.612692</td>\n",
       "      <td>58.0</td>\n",
       "      <td>120</td>\n",
       "      <td>...</td>\n",
       "      <td>40.06</td>\n",
       "      <td>40</td>\n",
       "      <td>18.0</td>\n",
       "      <td>0.0</td>\n",
       "      <td>0.6</td>\n",
       "      <td>HL</td>\n",
       "      <td>10901100.0</td>\n",
       "      <td>NaN</td>\n",
       "      <td>NaN</td>\n",
       "      <td>40</td>\n",
       "    </tr>\n",
       "    <tr>\n",
       "      <th>2</th>\n",
       "      <td>11220001</td>\n",
       "      <td>1.0</td>\n",
       "      <td>12001000.0</td>\n",
       "      <td>11710107.24</td>\n",
       "      <td>11710107.24</td>\n",
       "      <td>2010-08-30</td>\n",
       "      <td>13.421934</td>\n",
       "      <td>10.612692</td>\n",
       "      <td>58.0</td>\n",
       "      <td>120</td>\n",
       "      <td>...</td>\n",
       "      <td>40.06</td>\n",
       "      <td>41</td>\n",
       "      <td>17.0</td>\n",
       "      <td>0.0</td>\n",
       "      <td>0.6</td>\n",
       "      <td>HL</td>\n",
       "      <td>10901100.0</td>\n",
       "      <td>NaN</td>\n",
       "      <td>NaN</td>\n",
       "      <td>41</td>\n",
       "    </tr>\n",
       "    <tr>\n",
       "      <th>3</th>\n",
       "      <td>11220001</td>\n",
       "      <td>1.0</td>\n",
       "      <td>12001000.0</td>\n",
       "      <td>11710107.24</td>\n",
       "      <td>11710107.24</td>\n",
       "      <td>2010-08-30</td>\n",
       "      <td>13.421934</td>\n",
       "      <td>10.612692</td>\n",
       "      <td>58.0</td>\n",
       "      <td>120</td>\n",
       "      <td>...</td>\n",
       "      <td>40.06</td>\n",
       "      <td>41</td>\n",
       "      <td>17.0</td>\n",
       "      <td>0.0</td>\n",
       "      <td>0.6</td>\n",
       "      <td>HL</td>\n",
       "      <td>10901100.0</td>\n",
       "      <td>NaN</td>\n",
       "      <td>NaN</td>\n",
       "      <td>42</td>\n",
       "    </tr>\n",
       "    <tr>\n",
       "      <th>4</th>\n",
       "      <td>11220001</td>\n",
       "      <td>1.0</td>\n",
       "      <td>12001000.0</td>\n",
       "      <td>11710107.24</td>\n",
       "      <td>11710107.24</td>\n",
       "      <td>2010-08-30</td>\n",
       "      <td>13.421934</td>\n",
       "      <td>10.612692</td>\n",
       "      <td>58.0</td>\n",
       "      <td>120</td>\n",
       "      <td>...</td>\n",
       "      <td>40.06</td>\n",
       "      <td>43</td>\n",
       "      <td>15.0</td>\n",
       "      <td>0.0</td>\n",
       "      <td>0.6</td>\n",
       "      <td>HL</td>\n",
       "      <td>10901100.0</td>\n",
       "      <td>NaN</td>\n",
       "      <td>NaN</td>\n",
       "      <td>43</td>\n",
       "    </tr>\n",
       "  </tbody>\n",
       "</table>\n",
       "<p>5 rows × 39 columns</p>\n",
       "</div>"
      ],
      "text/plain": [
       "   AGREEMENTID  FORECLOSURE  CUSTOMERID     LOAN_AMT  NET_DISBURSED_AMT  \\\n",
       "0     11220001          1.0  12001000.0  11710107.24        11710107.24   \n",
       "1     11220001          1.0  12001000.0  11710107.24        11710107.24   \n",
       "2     11220001          1.0  12001000.0  11710107.24        11710107.24   \n",
       "3     11220001          1.0  12001000.0  11710107.24        11710107.24   \n",
       "4     11220001          1.0  12001000.0  11710107.24        11710107.24   \n",
       "\n",
       "  INTEREST_START_DATE  CURRENT_ROI  ORIGNAL_ROI  CURRENT_TENOR  ORIGNAL_TENOR  \\\n",
       "0          2010-08-30    13.734072    10.612692           58.0            120   \n",
       "1          2010-08-30    13.734072    10.612692           58.0            120   \n",
       "2          2010-08-30    13.421934    10.612692           58.0            120   \n",
       "3          2010-08-30    13.421934    10.612692           58.0            120   \n",
       "4          2010-08-30    13.421934    10.612692           58.0            120   \n",
       "\n",
       "  ...   NET_LTV COMPLETED_TENURE BALANCE_TENURE  DPD  FOIR  PRODUCT  \\\n",
       "0 ...     40.06               39           19.0  0.0   0.6       HL   \n",
       "1 ...     40.06               40           18.0  0.0   0.6       HL   \n",
       "2 ...     40.06               41           17.0  0.0   0.6       HL   \n",
       "3 ...     40.06               41           17.0  0.0   0.6       HL   \n",
       "4 ...     40.06               43           15.0  0.0   0.6       HL   \n",
       "\n",
       "     SCHEMEID  NPA_IN_LAST_MONTH  NPA_IN_CURRENT_MONTH  MOB  \n",
       "0  10901100.0                NaN                   NaN   39  \n",
       "1  10901100.0                NaN                   NaN   40  \n",
       "2  10901100.0                NaN                   NaN   41  \n",
       "3  10901100.0                NaN                   NaN   42  \n",
       "4  10901100.0                NaN                   NaN   43  \n",
       "\n",
       "[5 rows x 39 columns]"
      ]
     },
     "execution_count": 111,
     "metadata": {},
     "output_type": "execute_result"
    }
   ],
   "source": [
    "result.head()"
   ]
  },
  {
   "cell_type": "code",
   "execution_count": 117,
   "metadata": {},
   "outputs": [
    {
     "data": {
      "text/plain": [
       "(624250, 53)"
      ]
     },
     "execution_count": 117,
     "metadata": {},
     "output_type": "execute_result"
    }
   ],
   "source": [
    "result_data.shape"
   ]
  },
  {
   "cell_type": "code",
   "execution_count": 113,
   "metadata": {},
   "outputs": [
    {
     "data": {
      "text/plain": [
       "54"
      ]
     },
     "execution_count": 113,
     "metadata": {},
     "output_type": "execute_result"
    }
   ],
   "source": [
    "39+15"
   ]
  },
  {
   "cell_type": "code",
   "execution_count": 118,
   "metadata": {},
   "outputs": [
    {
     "data": {
      "text/plain": [
       "AGREEMENTID                   0\n",
       "FORECLOSURE              249665\n",
       "CUSTOMERID                  516\n",
       "LOAN_AMT                      0\n",
       "NET_DISBURSED_AMT             0\n",
       "INTEREST_START_DATE           0\n",
       "CURRENT_ROI                   0\n",
       "ORIGNAL_ROI                   0\n",
       "CURRENT_TENOR                 5\n",
       "ORIGNAL_TENOR                 0\n",
       "DUEDAY                        0\n",
       "AUTHORIZATIONDATE             0\n",
       "CITY                          8\n",
       "PRE_EMI_DUEAMT                0\n",
       "PRE_EMI_RECEIVED_AMT          0\n",
       "PRE_EMI_OS_AMOUNT             0\n",
       "EMI_DUEAMT                    0\n",
       "EMI_RECEIVED_AMT              0\n",
       "EMI_OS_AMOUNT                 0\n",
       "EXCESS_AVAILABLE              0\n",
       "EXCESS_ADJUSTED_AMT           0\n",
       "BALANCE_EXCESS                0\n",
       "NET_RECEIVABLE                0\n",
       "OUTSTANDING_PRINCIPAL         0\n",
       "PAID_PRINCIPAL                0\n",
       "PAID_INTEREST                 0\n",
       "MONTHOPENING                  0\n",
       "LAST_RECEIPT_DATE          3787\n",
       "LAST_RECEIPT_AMOUNT       12045\n",
       "NET_LTV                       0\n",
       "COMPLETED_TENURE              0\n",
       "BALANCE_TENURE                5\n",
       "DPD                          31\n",
       "FOIR                          0\n",
       "PRODUCT                       0\n",
       "SCHEMEID                    516\n",
       "NPA_IN_LAST_MONTH        610891\n",
       "NPA_IN_CURRENT_MONTH     610814\n",
       "MOB                           0\n",
       "CUST_CONSTTYPE_ID        302263\n",
       "CUST_CATEGORYID          302263\n",
       "PROFESSION               624250\n",
       "AGE                      314504\n",
       "SEX                      314438\n",
       "MARITAL_STATUS           314504\n",
       "QUALIFICATION            320405\n",
       "NO_OF_DEPENDENT          304796\n",
       "OCCUPATION               624250\n",
       "POSITION                 602974\n",
       "GROSS_INCOME             302263\n",
       "PRE_JOBYEARS             544677\n",
       "NETTAKEHOMEINCOME        302263\n",
       "BRANCH_PINCODE           304564\n",
       "dtype: int64"
      ]
     },
     "execution_count": 118,
     "metadata": {},
     "output_type": "execute_result"
    }
   ],
   "source": [
    "#displays number of NA values in whole data set as summary\n",
    "result_data.isnull().sum()"
   ]
  },
  {
   "cell_type": "code",
   "execution_count": null,
   "metadata": {},
   "outputs": [],
   "source": []
  },
  {
   "cell_type": "code",
   "execution_count": null,
   "metadata": {},
   "outputs": [],
   "source": []
  },
  {
   "cell_type": "code",
   "execution_count": null,
   "metadata": {},
   "outputs": [],
   "source": []
  },
  {
   "cell_type": "code",
   "execution_count": null,
   "metadata": {},
   "outputs": [],
   "source": []
  },
  {
   "cell_type": "code",
   "execution_count": null,
   "metadata": {},
   "outputs": [],
   "source": []
  },
  {
   "cell_type": "code",
   "execution_count": 84,
   "metadata": {},
   "outputs": [],
   "source": [
    "train_data['education']=train_data.education.map({\"Master's & above\":0,\"Bachelor's\":1,'Below Secondary':2}).astype('category')\n",
    "train_data['gender'] = train_data.gender.map({\"m\":0,\"f\":1}).astype('category')\n",
    "test_data['education']=test_data.education.map({\"Master's & above\":0,\"Bachelor's\":1,'Below Secondary':2}).astype('category')\n",
    "test_data['gender'] = test_data.gender.map({\"m\":0,\"f\":1}).astype('category')"
   ]
  },
  {
   "cell_type": "code",
   "execution_count": 85,
   "metadata": {},
   "outputs": [],
   "source": [
    "train_data = train_data.fillna(train_data['education'].value_counts().index[0])\n",
    "test_data = test_data.fillna(test_data['education'].value_counts().index[0])\n"
   ]
  },
  {
   "cell_type": "code",
   "execution_count": 48,
   "metadata": {},
   "outputs": [
    {
     "data": {
      "text/plain": [
       "employee_id             0\n",
       "department              0\n",
       "region                  0\n",
       "education               0\n",
       "gender                  0\n",
       "recruitment_channel     0\n",
       "no_of_trainings         0\n",
       "age                     0\n",
       "previous_year_rating    0\n",
       "length_of_service       0\n",
       "KPIs_met >80%           0\n",
       "awards_won?             0\n",
       "avg_training_score      0\n",
       "dtype: int64"
      ]
     },
     "execution_count": 48,
     "metadata": {},
     "output_type": "execute_result"
    }
   ],
   "source": [
    "#displays number of NA values in whole data set as summary\n",
    "test_data.isnull().sum()"
   ]
  },
  {
   "cell_type": "code",
   "execution_count": 86,
   "metadata": {},
   "outputs": [],
   "source": [
    "from sklearn.preprocessing import LabelEncoder\n",
    "labelencoder = LabelEncoder()\n",
    "train_data[\"recruitment_channel\"] = labelencoder.fit_transform(train_data[\"recruitment_channel\"])\n",
    "test_data[\"recruitment_channel\"] = labelencoder.fit_transform(test_data[\"recruitment_channel\"])\n"
   ]
  },
  {
   "cell_type": "code",
   "execution_count": 50,
   "metadata": {},
   "outputs": [
    {
     "data": {
      "text/plain": [
       "employee_id                int64\n",
       "department                object\n",
       "region                    object\n",
       "education               category\n",
       "gender                  category\n",
       "recruitment_channel        int64\n",
       "no_of_trainings            int64\n",
       "age                        int64\n",
       "previous_year_rating     float64\n",
       "length_of_service          int64\n",
       "KPIs_met >80%              int64\n",
       "awards_won?                int64\n",
       "avg_training_score         int64\n",
       "is_promoted                int64\n",
       "dtype: object"
      ]
     },
     "execution_count": 50,
     "metadata": {},
     "output_type": "execute_result"
    }
   ],
   "source": [
    "train_data.dtypes"
   ]
  },
  {
   "cell_type": "code",
   "execution_count": 87,
   "metadata": {},
   "outputs": [],
   "source": [
    "from sklearn.preprocessing import LabelBinarizer\n",
    "lb = LabelBinarizer()"
   ]
  },
  {
   "cell_type": "code",
   "execution_count": 88,
   "metadata": {},
   "outputs": [],
   "source": [
    "train_data = train_data.join(pd.DataFrame(lb.fit_transform(train_data[\"department\"]),\n",
    "                          columns=lb.classes_, \n",
    "                          index=train_data.index))"
   ]
  },
  {
   "cell_type": "code",
   "execution_count": 89,
   "metadata": {},
   "outputs": [],
   "source": [
    "test_data = test_data.join(pd.DataFrame(lb.fit_transform(test_data[\"department\"]),\n",
    "                          columns=lb.classes_, \n",
    "                          index=test_data.index))"
   ]
  },
  {
   "cell_type": "code",
   "execution_count": 90,
   "metadata": {},
   "outputs": [],
   "source": [
    "train_data.drop(['department',\"region\"], axis=1, inplace=True)"
   ]
  },
  {
   "cell_type": "code",
   "execution_count": 91,
   "metadata": {},
   "outputs": [],
   "source": [
    "test_data.drop(['department',\"region\"], axis=1, inplace=True)"
   ]
  },
  {
   "cell_type": "code",
   "execution_count": 92,
   "metadata": {},
   "outputs": [],
   "source": [
    "Y = train_data[\"is_promoted\"]"
   ]
  },
  {
   "cell_type": "code",
   "execution_count": 93,
   "metadata": {},
   "outputs": [],
   "source": [
    "train_data.drop(['is_promoted'], axis=1, inplace=True)"
   ]
  },
  {
   "cell_type": "code",
   "execution_count": 96,
   "metadata": {},
   "outputs": [
    {
     "data": {
      "text/plain": [
       "(54808, 23)"
      ]
     },
     "execution_count": 96,
     "metadata": {},
     "output_type": "execute_result"
    }
   ],
   "source": [
    "train_data.shape"
   ]
  },
  {
   "cell_type": "code",
   "execution_count": 97,
   "metadata": {},
   "outputs": [
    {
     "data": {
      "text/plain": [
       "(23490, 23)"
      ]
     },
     "execution_count": 97,
     "metadata": {},
     "output_type": "execute_result"
    }
   ],
   "source": [
    "test_data.shape"
   ]
  },
  {
   "cell_type": "code",
   "execution_count": 74,
   "metadata": {},
   "outputs": [
    {
     "data": {
      "text/html": [
       "<div>\n",
       "<style scoped>\n",
       "    .dataframe tbody tr th:only-of-type {\n",
       "        vertical-align: middle;\n",
       "    }\n",
       "\n",
       "    .dataframe tbody tr th {\n",
       "        vertical-align: top;\n",
       "    }\n",
       "\n",
       "    .dataframe thead th {\n",
       "        text-align: right;\n",
       "    }\n",
       "</style>\n",
       "<table border=\"1\" class=\"dataframe\">\n",
       "  <thead>\n",
       "    <tr style=\"text-align: right;\">\n",
       "      <th></th>\n",
       "      <th>employee_id</th>\n",
       "      <th>education</th>\n",
       "      <th>gender</th>\n",
       "      <th>recruitment_channel</th>\n",
       "      <th>no_of_trainings</th>\n",
       "      <th>age</th>\n",
       "      <th>previous_year_rating</th>\n",
       "      <th>length_of_service</th>\n",
       "      <th>KPIs_met &gt;80%</th>\n",
       "      <th>awards_won?</th>\n",
       "      <th>avg_training_score</th>\n",
       "      <th>Analytics</th>\n",
       "      <th>Finance</th>\n",
       "      <th>HR</th>\n",
       "      <th>Legal</th>\n",
       "      <th>Operations</th>\n",
       "      <th>Procurement</th>\n",
       "      <th>R&amp;D</th>\n",
       "      <th>Sales &amp; Marketing</th>\n",
       "      <th>Technology</th>\n",
       "    </tr>\n",
       "  </thead>\n",
       "  <tbody>\n",
       "    <tr>\n",
       "      <th>0</th>\n",
       "      <td>65438</td>\n",
       "      <td>0.0</td>\n",
       "      <td>1</td>\n",
       "      <td>2</td>\n",
       "      <td>1</td>\n",
       "      <td>35</td>\n",
       "      <td>5.0</td>\n",
       "      <td>8</td>\n",
       "      <td>1</td>\n",
       "      <td>0</td>\n",
       "      <td>49</td>\n",
       "      <td>0</td>\n",
       "      <td>0</td>\n",
       "      <td>0</td>\n",
       "      <td>0</td>\n",
       "      <td>0</td>\n",
       "      <td>0</td>\n",
       "      <td>0</td>\n",
       "      <td>1</td>\n",
       "      <td>0</td>\n",
       "    </tr>\n",
       "    <tr>\n",
       "      <th>1</th>\n",
       "      <td>65141</td>\n",
       "      <td>1.0</td>\n",
       "      <td>0</td>\n",
       "      <td>0</td>\n",
       "      <td>1</td>\n",
       "      <td>30</td>\n",
       "      <td>5.0</td>\n",
       "      <td>4</td>\n",
       "      <td>0</td>\n",
       "      <td>0</td>\n",
       "      <td>60</td>\n",
       "      <td>0</td>\n",
       "      <td>0</td>\n",
       "      <td>0</td>\n",
       "      <td>0</td>\n",
       "      <td>1</td>\n",
       "      <td>0</td>\n",
       "      <td>0</td>\n",
       "      <td>0</td>\n",
       "      <td>0</td>\n",
       "    </tr>\n",
       "    <tr>\n",
       "      <th>2</th>\n",
       "      <td>7513</td>\n",
       "      <td>1.0</td>\n",
       "      <td>0</td>\n",
       "      <td>2</td>\n",
       "      <td>1</td>\n",
       "      <td>34</td>\n",
       "      <td>3.0</td>\n",
       "      <td>7</td>\n",
       "      <td>0</td>\n",
       "      <td>0</td>\n",
       "      <td>50</td>\n",
       "      <td>0</td>\n",
       "      <td>0</td>\n",
       "      <td>0</td>\n",
       "      <td>0</td>\n",
       "      <td>0</td>\n",
       "      <td>0</td>\n",
       "      <td>0</td>\n",
       "      <td>1</td>\n",
       "      <td>0</td>\n",
       "    </tr>\n",
       "    <tr>\n",
       "      <th>3</th>\n",
       "      <td>2542</td>\n",
       "      <td>1.0</td>\n",
       "      <td>0</td>\n",
       "      <td>0</td>\n",
       "      <td>2</td>\n",
       "      <td>39</td>\n",
       "      <td>1.0</td>\n",
       "      <td>10</td>\n",
       "      <td>0</td>\n",
       "      <td>0</td>\n",
       "      <td>50</td>\n",
       "      <td>0</td>\n",
       "      <td>0</td>\n",
       "      <td>0</td>\n",
       "      <td>0</td>\n",
       "      <td>0</td>\n",
       "      <td>0</td>\n",
       "      <td>0</td>\n",
       "      <td>1</td>\n",
       "      <td>0</td>\n",
       "    </tr>\n",
       "    <tr>\n",
       "      <th>4</th>\n",
       "      <td>48945</td>\n",
       "      <td>1.0</td>\n",
       "      <td>0</td>\n",
       "      <td>0</td>\n",
       "      <td>1</td>\n",
       "      <td>45</td>\n",
       "      <td>3.0</td>\n",
       "      <td>2</td>\n",
       "      <td>0</td>\n",
       "      <td>0</td>\n",
       "      <td>73</td>\n",
       "      <td>0</td>\n",
       "      <td>0</td>\n",
       "      <td>0</td>\n",
       "      <td>0</td>\n",
       "      <td>0</td>\n",
       "      <td>0</td>\n",
       "      <td>0</td>\n",
       "      <td>0</td>\n",
       "      <td>1</td>\n",
       "    </tr>\n",
       "  </tbody>\n",
       "</table>\n",
       "</div>"
      ],
      "text/plain": [
       "   employee_id education gender  recruitment_channel  no_of_trainings  age  \\\n",
       "0        65438       0.0      1                    2                1   35   \n",
       "1        65141       1.0      0                    0                1   30   \n",
       "2         7513       1.0      0                    2                1   34   \n",
       "3         2542       1.0      0                    0                2   39   \n",
       "4        48945       1.0      0                    0                1   45   \n",
       "\n",
       "   previous_year_rating  length_of_service  KPIs_met >80%  awards_won?  \\\n",
       "0                   5.0                  8              1            0   \n",
       "1                   5.0                  4              0            0   \n",
       "2                   3.0                  7              0            0   \n",
       "3                   1.0                 10              0            0   \n",
       "4                   3.0                  2              0            0   \n",
       "\n",
       "   avg_training_score  Analytics  Finance  HR  Legal  Operations  Procurement  \\\n",
       "0                  49          0        0   0      0           0            0   \n",
       "1                  60          0        0   0      0           1            0   \n",
       "2                  50          0        0   0      0           0            0   \n",
       "3                  50          0        0   0      0           0            0   \n",
       "4                  73          0        0   0      0           0            0   \n",
       "\n",
       "   R&D  Sales & Marketing  Technology  \n",
       "0    0                  1           0  \n",
       "1    0                  0           0  \n",
       "2    0                  1           0  \n",
       "3    0                  1           0  \n",
       "4    0                  0           1  "
      ]
     },
     "execution_count": 74,
     "metadata": {},
     "output_type": "execute_result"
    }
   ],
   "source": [
    "train_data.head()"
   ]
  },
  {
   "cell_type": "code",
   "execution_count": 94,
   "metadata": {},
   "outputs": [],
   "source": [
    "train_data[\"total\"]=train_data[\"KPIs_met >80%\"]+train_data[\"awards_won?\"]+train_data[\"previous_year_rating\"]\n",
    "train_data[\"total_training\"]=train_data[\"no_of_trainings\"]+train_data[\"avg_training_score\"]\n",
    "test_data[\"total\"]=test_data[\"KPIs_met >80%\"]+test_data[\"awards_won?\"]+test_data[\"previous_year_rating\"]\n",
    "test_data[\"total_training\"]=test_data[\"no_of_trainings\"]+test_data[\"avg_training_score\"]\n"
   ]
  },
  {
   "cell_type": "code",
   "execution_count": 95,
   "metadata": {},
   "outputs": [],
   "source": [
    "train_data[\"Joining_age\"]=train_data[\"age\"]-train_data[\"length_of_service\"]\n",
    "test_data[\"Joining_age\"]=test_data[\"age\"]-train_data[\"length_of_service\"]\n"
   ]
  },
  {
   "cell_type": "code",
   "execution_count": null,
   "metadata": {},
   "outputs": [],
   "source": []
  },
  {
   "cell_type": "code",
   "execution_count": 98,
   "metadata": {},
   "outputs": [
    {
     "data": {
      "text/plain": [
       "RandomForestClassifier(bootstrap=True, class_weight=None, criterion='gini',\n",
       "            max_depth=None, max_features='auto', max_leaf_nodes=None,\n",
       "            min_impurity_decrease=0.0, min_impurity_split=None,\n",
       "            min_samples_leaf=1, min_samples_split=2,\n",
       "            min_weight_fraction_leaf=0.0, n_estimators=200, n_jobs=1,\n",
       "            oob_score=False, random_state=None, verbose=0,\n",
       "            warm_start=False)"
      ]
     },
     "execution_count": 98,
     "metadata": {},
     "output_type": "execute_result"
    }
   ],
   "source": [
    "from sklearn.ensemble import RandomForestClassifier\n",
    "model = RandomForestClassifier(n_estimators=200)\n",
    "model.fit(train_data, Y)"
   ]
  },
  {
   "cell_type": "code",
   "execution_count": 105,
   "metadata": {},
   "outputs": [],
   "source": [
    "predictions = model.predict(test_data)\n",
    "final_result = pd.DataFrame({'employee_id':test_data['employee_id'],'is_promoted':predictions})\n",
    "final_result.to_csv('lgPredmodel1.csv',index=False)"
   ]
  },
  {
   "cell_type": "code",
   "execution_count": null,
   "metadata": {},
   "outputs": [],
   "source": []
  },
  {
   "cell_type": "code",
   "execution_count": null,
   "metadata": {},
   "outputs": [],
   "source": []
  },
  {
   "cell_type": "code",
   "execution_count": 87,
   "metadata": {},
   "outputs": [
    {
     "data": {
      "text/plain": [
       "LogisticRegression(C=1.0, class_weight=None, dual=False, fit_intercept=True,\n",
       "          intercept_scaling=1, max_iter=100, multi_class='ovr', n_jobs=1,\n",
       "          penalty='l2', random_state=None, solver='liblinear', tol=0.0001,\n",
       "          verbose=0, warm_start=False)"
      ]
     },
     "execution_count": 87,
     "metadata": {},
     "output_type": "execute_result"
    }
   ],
   "source": [
    "# import and instantiate a Multinomial Naive Bayes model\n",
    "from sklearn.linear_model import LogisticRegression\n",
    "logreg = LogisticRegression()\n",
    "logreg.fit(train, Y)"
   ]
  },
  {
   "cell_type": "code",
   "execution_count": null,
   "metadata": {},
   "outputs": [],
   "source": []
  },
  {
   "cell_type": "code",
   "execution_count": 102,
   "metadata": {},
   "outputs": [
    {
     "data": {
      "text/plain": [
       "MultinomialNB(alpha=1.0, class_prior=None, fit_prior=True)"
      ]
     },
     "execution_count": 102,
     "metadata": {},
     "output_type": "execute_result"
    }
   ],
   "source": [
    "# import and instantiate a Multinomial Naive Bayes model\n",
    "from sklearn.naive_bayes import MultinomialNB\n",
    "model = MultinomialNB()\n",
    "# train the model using X_train_dtm (timing it with an IPython \"magic command\")\n",
    "model.fit(train_data, Y)"
   ]
  },
  {
   "cell_type": "code",
   "execution_count": null,
   "metadata": {},
   "outputs": [],
   "source": []
  },
  {
   "cell_type": "code",
   "execution_count": null,
   "metadata": {},
   "outputs": [],
   "source": []
  },
  {
   "cell_type": "code",
   "execution_count": 62,
   "metadata": {},
   "outputs": [],
   "source": []
  },
  {
   "cell_type": "code",
   "execution_count": null,
   "metadata": {},
   "outputs": [],
   "source": []
  },
  {
   "cell_type": "code",
   "execution_count": null,
   "metadata": {},
   "outputs": [],
   "source": []
  },
  {
   "cell_type": "code",
   "execution_count": null,
   "metadata": {},
   "outputs": [],
   "source": []
  },
  {
   "cell_type": "code",
   "execution_count": null,
   "metadata": {},
   "outputs": [],
   "source": []
  },
  {
   "cell_type": "code",
   "execution_count": null,
   "metadata": {},
   "outputs": [],
   "source": []
  },
  {
   "cell_type": "code",
   "execution_count": null,
   "metadata": {},
   "outputs": [],
   "source": []
  },
  {
   "cell_type": "code",
   "execution_count": null,
   "metadata": {},
   "outputs": [],
   "source": []
  },
  {
   "cell_type": "code",
   "execution_count": null,
   "metadata": {},
   "outputs": [],
   "source": []
  },
  {
   "cell_type": "code",
   "execution_count": null,
   "metadata": {},
   "outputs": [],
   "source": []
  },
  {
   "cell_type": "code",
   "execution_count": null,
   "metadata": {},
   "outputs": [],
   "source": []
  },
  {
   "cell_type": "code",
   "execution_count": null,
   "metadata": {},
   "outputs": [],
   "source": []
  },
  {
   "cell_type": "code",
   "execution_count": null,
   "metadata": {},
   "outputs": [],
   "source": []
  },
  {
   "cell_type": "code",
   "execution_count": null,
   "metadata": {},
   "outputs": [],
   "source": []
  },
  {
   "cell_type": "code",
   "execution_count": null,
   "metadata": {},
   "outputs": [],
   "source": []
  },
  {
   "cell_type": "code",
   "execution_count": null,
   "metadata": {},
   "outputs": [],
   "source": []
  },
  {
   "cell_type": "code",
   "execution_count": null,
   "metadata": {},
   "outputs": [],
   "source": []
  },
  {
   "cell_type": "code",
   "execution_count": null,
   "metadata": {},
   "outputs": [],
   "source": []
  },
  {
   "cell_type": "code",
   "execution_count": null,
   "metadata": {},
   "outputs": [],
   "source": []
  },
  {
   "cell_type": "code",
   "execution_count": null,
   "metadata": {},
   "outputs": [],
   "source": []
  },
  {
   "cell_type": "code",
   "execution_count": null,
   "metadata": {},
   "outputs": [],
   "source": []
  },
  {
   "cell_type": "code",
   "execution_count": null,
   "metadata": {},
   "outputs": [],
   "source": []
  },
  {
   "cell_type": "code",
   "execution_count": null,
   "metadata": {},
   "outputs": [],
   "source": []
  },
  {
   "cell_type": "code",
   "execution_count": null,
   "metadata": {},
   "outputs": [],
   "source": []
  },
  {
   "cell_type": "code",
   "execution_count": null,
   "metadata": {},
   "outputs": [],
   "source": []
  },
  {
   "cell_type": "code",
   "execution_count": null,
   "metadata": {},
   "outputs": [],
   "source": []
  },
  {
   "cell_type": "code",
   "execution_count": null,
   "metadata": {},
   "outputs": [],
   "source": []
  },
  {
   "cell_type": "code",
   "execution_count": null,
   "metadata": {},
   "outputs": [],
   "source": []
  },
  {
   "cell_type": "code",
   "execution_count": null,
   "metadata": {},
   "outputs": [],
   "source": []
  },
  {
   "cell_type": "code",
   "execution_count": null,
   "metadata": {},
   "outputs": [],
   "source": []
  },
  {
   "cell_type": "code",
   "execution_count": null,
   "metadata": {},
   "outputs": [],
   "source": []
  },
  {
   "cell_type": "code",
   "execution_count": null,
   "metadata": {},
   "outputs": [],
   "source": []
  },
  {
   "cell_type": "code",
   "execution_count": null,
   "metadata": {},
   "outputs": [],
   "source": []
  },
  {
   "cell_type": "code",
   "execution_count": null,
   "metadata": {},
   "outputs": [],
   "source": []
  },
  {
   "cell_type": "code",
   "execution_count": null,
   "metadata": {},
   "outputs": [],
   "source": []
  },
  {
   "cell_type": "code",
   "execution_count": null,
   "metadata": {},
   "outputs": [],
   "source": []
  },
  {
   "cell_type": "code",
   "execution_count": null,
   "metadata": {},
   "outputs": [],
   "source": []
  },
  {
   "cell_type": "code",
   "execution_count": null,
   "metadata": {},
   "outputs": [],
   "source": []
  },
  {
   "cell_type": "code",
   "execution_count": null,
   "metadata": {},
   "outputs": [],
   "source": []
  },
  {
   "cell_type": "code",
   "execution_count": null,
   "metadata": {},
   "outputs": [],
   "source": []
  },
  {
   "cell_type": "code",
   "execution_count": null,
   "metadata": {},
   "outputs": [],
   "source": []
  },
  {
   "cell_type": "code",
   "execution_count": null,
   "metadata": {},
   "outputs": [],
   "source": []
  },
  {
   "cell_type": "code",
   "execution_count": null,
   "metadata": {},
   "outputs": [],
   "source": []
  },
  {
   "cell_type": "code",
   "execution_count": null,
   "metadata": {},
   "outputs": [],
   "source": []
  },
  {
   "cell_type": "code",
   "execution_count": null,
   "metadata": {},
   "outputs": [],
   "source": []
  },
  {
   "cell_type": "code",
   "execution_count": null,
   "metadata": {},
   "outputs": [],
   "source": []
  },
  {
   "cell_type": "code",
   "execution_count": null,
   "metadata": {},
   "outputs": [],
   "source": []
  },
  {
   "cell_type": "code",
   "execution_count": null,
   "metadata": {},
   "outputs": [],
   "source": []
  },
  {
   "cell_type": "code",
   "execution_count": null,
   "metadata": {},
   "outputs": [],
   "source": []
  },
  {
   "cell_type": "code",
   "execution_count": null,
   "metadata": {},
   "outputs": [],
   "source": []
  },
  {
   "cell_type": "code",
   "execution_count": null,
   "metadata": {},
   "outputs": [],
   "source": []
  },
  {
   "cell_type": "code",
   "execution_count": null,
   "metadata": {},
   "outputs": [],
   "source": []
  },
  {
   "cell_type": "code",
   "execution_count": null,
   "metadata": {},
   "outputs": [],
   "source": []
  },
  {
   "cell_type": "code",
   "execution_count": null,
   "metadata": {},
   "outputs": [],
   "source": []
  },
  {
   "cell_type": "code",
   "execution_count": null,
   "metadata": {},
   "outputs": [],
   "source": []
  },
  {
   "cell_type": "code",
   "execution_count": null,
   "metadata": {},
   "outputs": [],
   "source": []
  },
  {
   "cell_type": "code",
   "execution_count": null,
   "metadata": {},
   "outputs": [],
   "source": []
  },
  {
   "cell_type": "code",
   "execution_count": null,
   "metadata": {},
   "outputs": [],
   "source": []
  },
  {
   "cell_type": "code",
   "execution_count": null,
   "metadata": {},
   "outputs": [],
   "source": []
  },
  {
   "cell_type": "code",
   "execution_count": null,
   "metadata": {},
   "outputs": [],
   "source": []
  },
  {
   "cell_type": "code",
   "execution_count": null,
   "metadata": {},
   "outputs": [],
   "source": []
  },
  {
   "cell_type": "code",
   "execution_count": null,
   "metadata": {},
   "outputs": [],
   "source": []
  },
  {
   "cell_type": "code",
   "execution_count": null,
   "metadata": {},
   "outputs": [],
   "source": []
  },
  {
   "cell_type": "code",
   "execution_count": null,
   "metadata": {},
   "outputs": [],
   "source": []
  },
  {
   "cell_type": "code",
   "execution_count": null,
   "metadata": {},
   "outputs": [],
   "source": []
  },
  {
   "cell_type": "code",
   "execution_count": null,
   "metadata": {},
   "outputs": [],
   "source": []
  },
  {
   "cell_type": "code",
   "execution_count": null,
   "metadata": {},
   "outputs": [],
   "source": []
  },
  {
   "cell_type": "code",
   "execution_count": null,
   "metadata": {},
   "outputs": [],
   "source": []
  },
  {
   "cell_type": "code",
   "execution_count": null,
   "metadata": {},
   "outputs": [],
   "source": []
  },
  {
   "cell_type": "code",
   "execution_count": null,
   "metadata": {},
   "outputs": [],
   "source": []
  },
  {
   "cell_type": "code",
   "execution_count": null,
   "metadata": {},
   "outputs": [],
   "source": []
  },
  {
   "cell_type": "code",
   "execution_count": null,
   "metadata": {},
   "outputs": [],
   "source": []
  },
  {
   "cell_type": "code",
   "execution_count": null,
   "metadata": {},
   "outputs": [],
   "source": []
  },
  {
   "cell_type": "code",
   "execution_count": null,
   "metadata": {},
   "outputs": [],
   "source": []
  },
  {
   "cell_type": "code",
   "execution_count": null,
   "metadata": {},
   "outputs": [],
   "source": []
  },
  {
   "cell_type": "code",
   "execution_count": null,
   "metadata": {},
   "outputs": [],
   "source": []
  },
  {
   "cell_type": "code",
   "execution_count": null,
   "metadata": {},
   "outputs": [],
   "source": []
  },
  {
   "cell_type": "code",
   "execution_count": null,
   "metadata": {},
   "outputs": [],
   "source": []
  },
  {
   "cell_type": "code",
   "execution_count": null,
   "metadata": {},
   "outputs": [],
   "source": []
  },
  {
   "cell_type": "code",
   "execution_count": null,
   "metadata": {},
   "outputs": [],
   "source": []
  },
  {
   "cell_type": "code",
   "execution_count": null,
   "metadata": {},
   "outputs": [],
   "source": []
  },
  {
   "cell_type": "code",
   "execution_count": null,
   "metadata": {},
   "outputs": [],
   "source": []
  },
  {
   "cell_type": "code",
   "execution_count": null,
   "metadata": {},
   "outputs": [],
   "source": []
  },
  {
   "cell_type": "code",
   "execution_count": null,
   "metadata": {},
   "outputs": [],
   "source": []
  },
  {
   "cell_type": "code",
   "execution_count": null,
   "metadata": {},
   "outputs": [],
   "source": []
  },
  {
   "cell_type": "code",
   "execution_count": null,
   "metadata": {},
   "outputs": [],
   "source": []
  },
  {
   "cell_type": "code",
   "execution_count": null,
   "metadata": {},
   "outputs": [],
   "source": []
  },
  {
   "cell_type": "code",
   "execution_count": null,
   "metadata": {},
   "outputs": [],
   "source": []
  },
  {
   "cell_type": "code",
   "execution_count": null,
   "metadata": {},
   "outputs": [],
   "source": []
  },
  {
   "cell_type": "code",
   "execution_count": null,
   "metadata": {},
   "outputs": [],
   "source": []
  },
  {
   "cell_type": "code",
   "execution_count": null,
   "metadata": {},
   "outputs": [],
   "source": []
  },
  {
   "cell_type": "code",
   "execution_count": null,
   "metadata": {},
   "outputs": [],
   "source": []
  },
  {
   "cell_type": "code",
   "execution_count": null,
   "metadata": {},
   "outputs": [],
   "source": []
  },
  {
   "cell_type": "code",
   "execution_count": null,
   "metadata": {},
   "outputs": [],
   "source": []
  },
  {
   "cell_type": "code",
   "execution_count": null,
   "metadata": {},
   "outputs": [],
   "source": []
  },
  {
   "cell_type": "code",
   "execution_count": null,
   "metadata": {},
   "outputs": [],
   "source": []
  },
  {
   "cell_type": "code",
   "execution_count": null,
   "metadata": {},
   "outputs": [],
   "source": []
  },
  {
   "cell_type": "code",
   "execution_count": null,
   "metadata": {},
   "outputs": [],
   "source": []
  },
  {
   "cell_type": "code",
   "execution_count": null,
   "metadata": {},
   "outputs": [],
   "source": []
  },
  {
   "cell_type": "code",
   "execution_count": null,
   "metadata": {},
   "outputs": [],
   "source": []
  },
  {
   "cell_type": "code",
   "execution_count": null,
   "metadata": {},
   "outputs": [],
   "source": []
  },
  {
   "cell_type": "code",
   "execution_count": null,
   "metadata": {},
   "outputs": [],
   "source": []
  },
  {
   "cell_type": "code",
   "execution_count": null,
   "metadata": {},
   "outputs": [],
   "source": []
  }
 ],
 "metadata": {
  "kernelspec": {
   "display_name": "Python 3",
   "language": "python",
   "name": "python3"
  },
  "language_info": {
   "codemirror_mode": {
    "name": "ipython",
    "version": 3
   },
   "file_extension": ".py",
   "mimetype": "text/x-python",
   "name": "python",
   "nbconvert_exporter": "python",
   "pygments_lexer": "ipython3",
   "version": "3.6.4"
  }
 },
 "nbformat": 4,
 "nbformat_minor": 2
}
